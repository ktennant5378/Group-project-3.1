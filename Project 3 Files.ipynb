{
 "cells": [
  {
   "cell_type": "markdown",
   "metadata": {},
   "source": [
    "# Import Dependencies and data Cleaning"
   ]
  },
  {
   "cell_type": "code",
   "execution_count": null,
   "metadata": {},
   "outputs": [],
   "source": [
    "# import dependencies\n",
    "from pathlib import Path\n",
    "import pandas as pd\n",
    "import matplotlib.pyplot as plt\n",
    "from sqlalchemy import create_engine"
   ]
  },
  {
   "cell_type": "code",
   "execution_count": null,
   "metadata": {},
   "outputs": [],
   "source": [
    "# Create a reference to the SQLite database file\n",
    "db_path = Path(\"SQLLite.db\")\n",
    "\n",
    "# Create an engine that can talk to the database\n",
    "engine = create_engine(f\"sqlite:///{db_path}\")\n",
    "conn = engine.connect()\n",
    "\n",
    "# Query all records in the the database\n",
    "data = pd.read_sql(\"SELECT * FROM la_crime_Data\", conn)\n",
    "print(data.head())\n"
   ]
  },
  {
   "cell_type": "code",
   "execution_count": null,
   "metadata": {},
   "outputs": [],
   "source": [
    "# # Read in the data using pandas\n",
    "# data = pd.read_csv('static/Data/LA_Crime_Data.csv')\n",
    "\n",
    "# Conver data into a DataFrame\n",
    "data_df = pd.DataFrame(data)\n",
    "data_df.head()"
   ]
  },
  {
   "cell_type": "code",
   "execution_count": null,
   "metadata": {},
   "outputs": [],
   "source": [
    "# Clean the data, get rid of NaN values, drop duplicate DR_NO, Get rid of age 0, Get rid blank gender ('-')\n",
    "data_df.info()\n",
    "data_df.isnull().sum()\n",
    "# data_df['Premis Cd'].unique()\n",
    "\n",
    "\n",
    "\n",
    "# Drop columns that are not needed (Crm Cd 2, Crm Cd 3, Crm Cd 4, Cross Street)\n",
    "# Get rid of Mcode rows with NaN values.  \n",
    "# Look into Weapon Desc, Weapon Use. Figure out what the info means (Tracked as a number) Decide if we want to keep it"
   ]
  },
  {
   "cell_type": "code",
   "execution_count": null,
   "metadata": {},
   "outputs": [],
   "source": [
    "# Drop dulicate DR_NO\n",
    "data_df.drop_duplicates(subset='DR_NO', keep='first', inplace=True)\n",
    "\n",
    "# Drop rows with NaN values\n",
    "data_df.dropna(subset=['Mocodes'], inplace=True)\n",
    "\n",
    "# Drop rows with age 0\n",
    "data_df = data_df[data_df['VictAge'] != 0]\n",
    "\n",
    "# Drop blank Gender \n",
    "data_df = data_df[data_df['VictSex'] != '-']\n",
    "\n",
    "# Drop columns that are not needed\n",
    "data_df = data_df.drop(columns=['CrmCd2', 'CrmCd3', 'CrmCd4', 'CrossStreet'])\n",
    "\n",
    "# Reset index\n",
    "data_df.reset_index(drop=True, inplace=True)\n",
    "\n",
    "# Check to see if the data is clean\n",
    "data_df.info()\n",
    "data_df.isnull().sum()\n",
    "\n",
    "# Display the data\n",
    "data_df.head()\n",
    "\n"
   ]
  },
  {
   "cell_type": "code",
   "execution_count": null,
   "metadata": {},
   "outputs": [],
   "source": [
    "# Convert DATE OCC to datetime\n",
    "clean_df = data_df[['DATEOCC']].copy()\n",
    "clean_df['DATEOCC'] = pd.to_datetime(data_df['DATEOCC'])"
   ]
  },
  {
   "cell_type": "markdown",
   "metadata": {},
   "source": [
    "# Crime report over the years"
   ]
  },
  {
   "cell_type": "code",
   "execution_count": null,
   "metadata": {},
   "outputs": [],
   "source": [
    "# Correctly access the dt accessor on the Series, not the DataFrame\n",
    "data_2020 = clean_df[clean_df['DATEOCC'].dt.year == 2020]\n",
    "data_2021 = clean_df[clean_df['DATEOCC'].dt.year == 2021]\n",
    "data_2022 = clean_df[clean_df['DATEOCC'].dt.year == 2022]\n",
    "data_2023 = clean_df[clean_df['DATEOCC'].dt.year == 2023]\n",
    "data_2020"
   ]
  },
  {
   "cell_type": "code",
   "execution_count": null,
   "metadata": {},
   "outputs": [],
   "source": [
    "# count of the crime of each month\n",
    "# Take the crime count average of each month from the year 2020\n",
    "crime_count_2020 = data_2020['DATEOCC'].dt.month.value_counts().sort_index()\n",
    "crime_count_2021 = data_2021['DATEOCC'].dt.month.value_counts().sort_index()\n",
    "crime_count_2022 = data_2022['DATEOCC'].dt.month.value_counts().sort_index()\n",
    "crime_count_2023 = data_2023['DATEOCC'].dt.month.value_counts().sort_index()\n",
    "\n",
    "# Change the names of each month \n",
    "\n",
    "# display the data\n",
    "crime_count_2023"
   ]
  },
  {
   "cell_type": "code",
   "execution_count": null,
   "metadata": {},
   "outputs": [],
   "source": [
    "# Plot using matplotlib and export as png\n",
    "plt.figure(figsize=(10, 6))\n",
    "plt.plot(crime_count_2020.index, crime_count_2020.values, label='2020')\n",
    "plt.plot(crime_count_2021.index, crime_count_2021.values, label='2021')\n",
    "plt.plot(crime_count_2022.index, crime_count_2022.values, label='2022')\n",
    "plt.plot(crime_count_2023.index, crime_count_2023.values, label='2023')\n",
    "plt.xlabel('Month')\n",
    "plt.ylabel('Crime Count')\n",
    "plt.title('Crime Count by Month')\n",
    "plt.legend()\n",
    "plt.savefig('static/Images/crime_count_by_month.png')\n",
    "plt.show()\n",
    "\n",
    "\n"
   ]
  },
  {
   "cell_type": "markdown",
   "metadata": {},
   "source": [
    "Bonus October Analysis"
   ]
  },
  {
   "cell_type": "code",
   "execution_count": null,
   "metadata": {},
   "outputs": [],
   "source": [
    "# Isolate the october month \n",
    "october_2020 = data_2020[data_2020['DATEOCC'].dt.month == 10]\n",
    "october_2021 = data_2021[data_2021['DATEOCC'].dt.month == 10]\n",
    "october_2022 = data_2022[data_2022['DATEOCC'].dt.month == 10]\n",
    "october_2023 = data_2023[data_2023['DATEOCC'].dt.month == 10]\n",
    "\n",
    "# sort each df by date\n",
    "october_2020 = october_2020.sort_values(by='DATEOCC')\n",
    "october_2021 = october_2021.sort_values(by='DATEOCC')\n",
    "october_2022 = october_2022.sort_values(by='DATEOCC')\n",
    "october_2023 = october_2023.sort_values(by='DATEOCC')\n",
    "\n",
    "# Reset the index\n",
    "october_2020 = october_2020.reset_index(drop=True)\n",
    "october_2021 = october_2021.reset_index(drop=True)\n",
    "october_2022 = october_2022.reset_index(drop=True)\n",
    "october_2023 = october_2023.reset_index(drop=True)"
   ]
  },
  {
   "cell_type": "code",
   "execution_count": null,
   "metadata": {},
   "outputs": [],
   "source": [
    "# value count for each year\n",
    "oct_2020_value_count = october_2020['DATEOCC'].value_counts().sort_index()\n",
    "oct_2021_value_count = october_2021['DATEOCC'].value_counts().sort_index()\n",
    "oct_2022_value_count = october_2022['DATEOCC'].value_counts().sort_index()\n",
    "oct_2023_value_count = october_2023['DATEOCC'].value_counts().sort_index()\n",
    "\n",
    "# Reset the index\n",
    "oct_2020_df = oct_2020_value_count.reset_index()\n",
    "oct_2021_df = oct_2021_value_count.reset_index()\n",
    "oct_2022_df = oct_2022_value_count.reset_index()\n",
    "oct_2023_df = oct_2023_value_count.reset_index()\n",
    "\n",
    "# Renaming columns to be more descriptive\n",
    "oct_2020_df.columns = ['Date', 'Crime Count']\n",
    "oct_2021_df.columns = ['Date', 'Crime Count']\n",
    "oct_2022_df.columns = ['Date', 'Crime Count']\n",
    "oct_2023_df.columns = ['Date', 'Crime Count']\n",
    "\n",
    "# Print a DataFrame\n",
    "oct_2023_df"
   ]
  },
  {
   "cell_type": "code",
   "execution_count": null,
   "metadata": {},
   "outputs": [],
   "source": [
    "# Now you can plot using this DataFrame\n",
    "plt.figure(figsize=(10, 6))\n",
    "plt.bar(oct_2023_df['Date'], oct_2023_df['Crime Count'])\n",
    "plt.xticks(rotation=60)\n",
    "plt.xlabel('Date')\n",
    "plt.ylabel('Crime Count')\n",
    "plt.title('Daily Crime Count for October 2023')\n",
    "plt.tight_layout()\n",
    "plt.savefig('static/Images/daily_crime_count_oct_2023.png')\n",
    "plt.show()"
   ]
  },
  {
   "cell_type": "code",
   "execution_count": null,
   "metadata": {},
   "outputs": [],
   "source": [
    "# value count for september, November, december 2020\n",
    "september_2020 = data_2020[data_2020['DATEOCC'].dt.month == 9]\n",
    "september_2020 = september_2020.sort_values(by='DATEOCC')\n",
    "september_2020 = september_2020.reset_index(drop=True)\n",
    "sept_2020_value_count = september_2020['DATEOCC'].value_counts().sort_index()\n",
    "sept_2020_df = sept_2020_value_count.reset_index()\n",
    "sept_2020_df.columns = ['Date', 'Crime Count']\n",
    "\n",
    "november_2020 = data_2020[data_2020['DATEOCC'].dt.month == 11]\n",
    "november_2020 = november_2020.sort_values(by='DATEOCC')\n",
    "november_2020 = november_2020.reset_index(drop=True)\n",
    "nov_2020_value_count = november_2020['DATEOCC'].value_counts().sort_index()\n",
    "nov_2020_df = nov_2020_value_count.reset_index()\n",
    "nov_2020_df.columns = ['Date', 'Crime Count']\n",
    "\n",
    "december_2020 = data_2020[data_2020['DATEOCC'].dt.month == 12]\n",
    "december_2020 = december_2020.sort_values(by='DATEOCC')\n",
    "december_2020 = december_2020.reset_index(drop=True)\n",
    "dec_2020_value_count = december_2020['DATEOCC'].value_counts().sort_index()\n",
    "dec_2020_df = dec_2020_value_count.reset_index()\n",
    "dec_2020_df.columns = ['Date', 'Crime Count']"
   ]
  },
  {
   "cell_type": "code",
   "execution_count": null,
   "metadata": {},
   "outputs": [],
   "source": [
    "sept_2020_df\n",
    "nov_2020_df\n",
    "dec_2020_df"
   ]
  },
  {
   "cell_type": "markdown",
   "metadata": {},
   "source": [
    "# Top Crimes committed in LA (Bar chart) (Ritika)"
   ]
  },
  {
   "cell_type": "code",
   "execution_count": null,
   "metadata": {},
   "outputs": [],
   "source": [
    "# Create a dataframe (crime_report_df) that contains the top 10 crimes\n",
    "# columns = Crime, Count \n",
    "crime_report_df = data_df['CrmCdDesc'].value_counts().reset_index()\n",
    "crime_report_df.columns = ['Crime', 'Count']\n",
    "crime_report_df.head(10)"
   ]
  },
  {
   "cell_type": "code",
   "execution_count": null,
   "metadata": {},
   "outputs": [],
   "source": [
    "# Plot the top 10 crimes using plt.bar\n",
    "plt.figure(figsize=(10, 6))\n",
    "plt.bar(crime_report_df['Crime'].head(10), crime_report_df['Count'].head(10))\n",
    "plt.xlabel('Crime')\n",
    "plt.ylabel('Count')\n",
    "plt.xticks(rotation=90)\n",
    "plt.title('Top 10 Crimes in Los Angeles')\n",
    "plt.savefig('static/Images/top_10_crimes.png')\n",
    "plt.show()"
   ]
  },
  {
   "cell_type": "markdown",
   "metadata": {},
   "source": [
    "top 10 crimes in LA. Bar chart is nice but a pie chart would be better. Pie chart will show the proportions. I\n",
    "think it should show the top 10 crimes like below but the other crimes\n",
    "are lumped together in an ‘other’ category. (Ritika)"
   ]
  },
  {
   "cell_type": "code",
   "execution_count": null,
   "metadata": {},
   "outputs": [],
   "source": [
    "# create a dataframe that excludes the top 10 crimes\n",
    "# columns = Crime, Count\n",
    "excluded_crime_df = data_df['CrmCdDesc'].value_counts().reset_index()\n",
    "excluded_crime_df.columns = ['Crime', 'Count']\n",
    "excluded_crime_df = excluded_crime_df.iloc[10:]\n",
    "excluded_value_count = excluded_crime_df['Count'].sum()\n",
    "excluded_value_count\n",
    "\n",
    "# # Add row to the crime_report_df\n",
    "top_crime = crime_report_df.iloc[:10]\n",
    "top_crime.loc[len(top_crime)] = {'Crime': 'Other', 'Count': 344591}\n",
    "top_crime\n"
   ]
  },
  {
   "cell_type": "code",
   "execution_count": null,
   "metadata": {},
   "outputs": [],
   "source": [
    "# Define a list of colors that you want to use\n",
    "colors = ['#ff9999','#66b3ff','#99ff99','#ffcc99','#c2c2f0','#ffb3e6', '#c4e17f', '#76b7b2', '#f7c56b', '#ff9f80', '#d0e09b']\n",
    "\n",
    "# Plot the pie chart and specify the 'colors' parameter\n",
    "plt.figure(figsize=(10, 6))\n",
    "plt.pie(top_crime['Count'], labels=top_crime['Crime'], autopct='%1.1f%%', colors=colors)\n",
    "plt.title('Top 10 Crimes in Los Angeles')\n",
    "plt.savefig('static/Images/top_10_crimes_pie.png')\n",
    "plt.show()\n"
   ]
  },
  {
   "cell_type": "markdown",
   "metadata": {},
   "source": [
    "# Writing Map CSV"
   ]
  },
  {
   "cell_type": "code",
   "execution_count": null,
   "metadata": {},
   "outputs": [],
   "source": [
    "# Create a dataframe with the crime count in each area\n",
    "# columns = Area Name, Count\n",
    "area_df = data_df['AREANAME'].value_counts().reset_index()\n",
    "area_df.columns = ['Area_Name', 'Count']\n",
    "\n",
    "# add custom Lat and Lon to the area_df\n",
    "area_lat = [34.0375, 34.0444, 34.021, 34.1576, 34.0944, 33.9467, 33.9911, 34.2336, 34.0868, 34.1939, 34.0677, 34.0433, 34.082, 34.1938, 34.1084, 33.9785, 34.0022, 34.174, 33.7234, 34.2713, 34.2648]\n",
    "area_lon = [-118.3506, -118.2628, -118.3002, -118.4387, -118.3277, -118.2463, -118.2521, -118.4535, -118.2991, -118.4859, -118.552, -118.2892, -118.213, -118.5906, -118.2639, -118.3068, -118.4255, -118.3638, -118.2968, -118.415, -118.5055]\n",
    "\n",
    "# add lat and lon to the area_df and change to floating point \n",
    "area_df['Lat'] = area_lat\n",
    "area_df['Lon'] = area_lon\n",
    "area_df['Lat'] = area_df['Lat'].astype(float)\n",
    "area_df['Lon'] = area_df['Lon'].astype(float)\n",
    "area_df\n",
    "\n",
    "# Write the area_df to a csv file\n",
    "area_df.to_csv('static/Data/area_crime.csv', index=False)"
   ]
  }
 ],
 "metadata": {
  "kernelspec": {
   "display_name": "Python 3 (ipykernel)",
   "language": "python",
   "name": "python3"
  },
  "language_info": {
   "codemirror_mode": {
    "name": "ipython",
    "version": 3
   },
   "file_extension": ".py",
   "mimetype": "text/x-python",
   "name": "python",
   "nbconvert_exporter": "python",
   "pygments_lexer": "ipython3",
   "version": "3.11.7"
  }
 },
 "nbformat": 4,
 "nbformat_minor": 4
}
