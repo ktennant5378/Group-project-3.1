{
 "cells": [
  {
   "cell_type": "code",
   "execution_count": 1,
   "id": "068dd84b",
   "metadata": {},
   "outputs": [],
   "source": [
    "import os\n",
    "import csv\n",
    "import pandas as pd\n",
    "import numpy as np\n",
    "import matplotlib.pyplot as plt\n",
    "from datetime import datetime\n",
    "from sqlalchemy import create_engine\n",
    "from pathlib import Path\n",
    "from sqlalchemy import create_engine"
   ]
  },
  {
   "cell_type": "code",
   "execution_count": 4,
   "id": "a449a4ba",
   "metadata": {},
   "outputs": [
    {
     "name": "stdout",
     "output_type": "stream",
     "text": [
      "       DR_NO         DateRptd         DATEOCC  TIMEOCC  AREA   AREANAME  \\\n",
      "0  190326475    3/1/2020 0:00   3/1/2020 0:00     2130     7   Wilshire   \n",
      "1  200106753    2/9/2020 0:00   2/8/2020 0:00     1800     1    Central   \n",
      "2  200320258  11/11/2020 0:00  11/4/2020 0:00     1700     3  Southwest   \n",
      "3  200907217   5/10/2023 0:00  3/10/2020 0:00     2037     9   Van Nuys   \n",
      "4  220614831   8/18/2022 0:00  8/17/2020 0:00     1200     6  Hollywood   \n",
      "\n",
      "   RptDistNo  Part1-2  CrmCd                                 CrmCdDesc  ...  \\\n",
      "0        784        1    510                          VEHICLE - STOLEN  ...   \n",
      "1        182        1    330                     BURGLARY FROM VEHICLE  ...   \n",
      "2        356        1    480                             BIKE - STOLEN  ...   \n",
      "3        964        1    343  SHOPLIFTING-GRAND THEFT ($950.01 & OVER)  ...   \n",
      "4        666        2    354                         THEFT OF IDENTITY  ...   \n",
      "\n",
      "  Status    StatusDesc CrmCd1 CrmCd2  CrmCd3 CrmCd4  \\\n",
      "0     AA  Adult Arrest  510.0    998    None   None   \n",
      "1     IC   Invest Cont  330.0    998    None   None   \n",
      "2     IC   Invest Cont  480.0   None    None   None   \n",
      "3     IC   Invest Cont  343.0   None    None   None   \n",
      "4     IC   Invest Cont  354.0   None    None   None   \n",
      "\n",
      "                                   LOCATION CrossStreet      LAT       LON  \n",
      "0   1900 S  LONGWOOD                     AV        None  34.0375 -118.3506  \n",
      "1   1000 S  FLOWER                       ST        None  34.0444 -118.2628  \n",
      "2   1400 W  37TH                         ST        None  34.0210 -118.3002  \n",
      "3  14000    RIVERSIDE                    DR        None  34.1576 -118.4387  \n",
      "4                         1900    TRANSIENT        None  34.0944 -118.3277  \n",
      "\n",
      "[5 rows x 28 columns]\n"
     ]
    }
   ],
   "source": [
    "#Create a reference to the SQLite database file\n",
    "db_path = Path(\"SQLLite.db\")\n",
    "# Create an engine that can talk to the database\n",
    "engine = create_engine(f\"sqlite:///{db_path}\")\n",
    "conn = engine.connect()\n",
    "# Query all records in the the database\n",
    "data = pd.read_sql(\"SELECT * FROM la_crime_Data\", conn)\n",
    "print(data.head())\n",
    "\n",
    "# convert data into la_crime_df\n",
    "la_crime_df = pd.DataFrame(data)"
   ]
  },
  {
   "cell_type": "code",
   "execution_count": 5,
   "id": "3e52af3f",
   "metadata": {
    "scrolled": true
   },
   "outputs": [
    {
     "data": {
      "text/html": [
       "<div>\n",
       "<style scoped>\n",
       "    .dataframe tbody tr th:only-of-type {\n",
       "        vertical-align: middle;\n",
       "    }\n",
       "\n",
       "    .dataframe tbody tr th {\n",
       "        vertical-align: top;\n",
       "    }\n",
       "\n",
       "    .dataframe thead th {\n",
       "        text-align: right;\n",
       "    }\n",
       "</style>\n",
       "<table border=\"1\" class=\"dataframe\">\n",
       "  <thead>\n",
       "    <tr style=\"text-align: right;\">\n",
       "      <th></th>\n",
       "      <th>DR_NO</th>\n",
       "      <th>DateRptd</th>\n",
       "      <th>DATEOCC</th>\n",
       "      <th>TIMEOCC</th>\n",
       "      <th>AREA</th>\n",
       "      <th>AREANAME</th>\n",
       "      <th>RptDistNo</th>\n",
       "      <th>Part1-2</th>\n",
       "      <th>CrmCd</th>\n",
       "      <th>CrmCdDesc</th>\n",
       "      <th>...</th>\n",
       "      <th>Status</th>\n",
       "      <th>StatusDesc</th>\n",
       "      <th>CrmCd1</th>\n",
       "      <th>CrmCd2</th>\n",
       "      <th>CrmCd3</th>\n",
       "      <th>CrmCd4</th>\n",
       "      <th>LOCATION</th>\n",
       "      <th>CrossStreet</th>\n",
       "      <th>LAT</th>\n",
       "      <th>LON</th>\n",
       "    </tr>\n",
       "  </thead>\n",
       "  <tbody>\n",
       "    <tr>\n",
       "      <th>0</th>\n",
       "      <td>190326475</td>\n",
       "      <td>3/1/2020 0:00</td>\n",
       "      <td>3/1/2020 0:00</td>\n",
       "      <td>2130</td>\n",
       "      <td>7</td>\n",
       "      <td>Wilshire</td>\n",
       "      <td>784</td>\n",
       "      <td>1</td>\n",
       "      <td>510</td>\n",
       "      <td>VEHICLE - STOLEN</td>\n",
       "      <td>...</td>\n",
       "      <td>AA</td>\n",
       "      <td>Adult Arrest</td>\n",
       "      <td>510.0</td>\n",
       "      <td>998</td>\n",
       "      <td>None</td>\n",
       "      <td>None</td>\n",
       "      <td>1900 S  LONGWOOD                     AV</td>\n",
       "      <td>None</td>\n",
       "      <td>34.0375</td>\n",
       "      <td>-118.3506</td>\n",
       "    </tr>\n",
       "    <tr>\n",
       "      <th>1</th>\n",
       "      <td>200106753</td>\n",
       "      <td>2/9/2020 0:00</td>\n",
       "      <td>2/8/2020 0:00</td>\n",
       "      <td>1800</td>\n",
       "      <td>1</td>\n",
       "      <td>Central</td>\n",
       "      <td>182</td>\n",
       "      <td>1</td>\n",
       "      <td>330</td>\n",
       "      <td>BURGLARY FROM VEHICLE</td>\n",
       "      <td>...</td>\n",
       "      <td>IC</td>\n",
       "      <td>Invest Cont</td>\n",
       "      <td>330.0</td>\n",
       "      <td>998</td>\n",
       "      <td>None</td>\n",
       "      <td>None</td>\n",
       "      <td>1000 S  FLOWER                       ST</td>\n",
       "      <td>None</td>\n",
       "      <td>34.0444</td>\n",
       "      <td>-118.2628</td>\n",
       "    </tr>\n",
       "  </tbody>\n",
       "</table>\n",
       "<p>2 rows × 28 columns</p>\n",
       "</div>"
      ],
      "text/plain": [
       "       DR_NO       DateRptd        DATEOCC  TIMEOCC  AREA  AREANAME  \\\n",
       "0  190326475  3/1/2020 0:00  3/1/2020 0:00     2130     7  Wilshire   \n",
       "1  200106753  2/9/2020 0:00  2/8/2020 0:00     1800     1   Central   \n",
       "\n",
       "   RptDistNo  Part1-2  CrmCd              CrmCdDesc  ... Status    StatusDesc  \\\n",
       "0        784        1    510       VEHICLE - STOLEN  ...     AA  Adult Arrest   \n",
       "1        182        1    330  BURGLARY FROM VEHICLE  ...     IC   Invest Cont   \n",
       "\n",
       "  CrmCd1 CrmCd2  CrmCd3 CrmCd4                                 LOCATION  \\\n",
       "0  510.0    998    None   None  1900 S  LONGWOOD                     AV   \n",
       "1  330.0    998    None   None  1000 S  FLOWER                       ST   \n",
       "\n",
       "  CrossStreet      LAT       LON  \n",
       "0        None  34.0375 -118.3506  \n",
       "1        None  34.0444 -118.2628  \n",
       "\n",
       "[2 rows x 28 columns]"
      ]
     },
     "execution_count": 5,
     "metadata": {},
     "output_type": "execute_result"
    }
   ],
   "source": [
    "# la_crime_df=pd.read_csv(\"./static/Data/LA_Crime_Data.csv\")\n",
    "la_crime_df.head(2)"
   ]
  },
  {
   "cell_type": "code",
   "execution_count": 7,
   "id": "a300b413",
   "metadata": {},
   "outputs": [
    {
     "data": {
      "text/plain": [
       "Part1-2\n",
       "1    545773\n",
       "2    379947\n",
       "Name: count, dtype: int64"
      ]
     },
     "execution_count": 7,
     "metadata": {},
     "output_type": "execute_result"
    }
   ],
   "source": [
    "la_crime_df[\"Part1-2\"].value_counts()"
   ]
  },
  {
   "cell_type": "code",
   "execution_count": 8,
   "id": "3df0438c",
   "metadata": {},
   "outputs": [
    {
     "data": {
      "text/plain": [
       "True"
      ]
     },
     "execution_count": 8,
     "metadata": {},
     "output_type": "execute_result"
    }
   ],
   "source": [
    "any(la_crime_df.isna())"
   ]
  },
  {
   "cell_type": "code",
   "execution_count": 9,
   "id": "b239fc4e",
   "metadata": {},
   "outputs": [
    {
     "name": "stdout",
     "output_type": "stream",
     "text": [
      "Are there duplicates in 'my_column'? False\n"
     ]
    }
   ],
   "source": [
    "duplicates = la_crime_df.duplicated(subset=['DR_NO'])\n",
    "\n",
    "# Check if there are any duplicates\n",
    "has_duplicates = duplicates.any()\n",
    "\n",
    "print(f\"Are there duplicates in 'my_column'? {has_duplicates}\")"
   ]
  },
  {
   "cell_type": "code",
   "execution_count": 10,
   "id": "7dafcace",
   "metadata": {},
   "outputs": [
    {
     "name": "stdout",
     "output_type": "stream",
     "text": [
      "Number of rows:  925720\n"
     ]
    }
   ],
   "source": [
    "print(\"Number of rows: \", la_crime_df.shape[0])"
   ]
  },
  {
   "cell_type": "code",
   "execution_count": 11,
   "id": "bd80ab4c",
   "metadata": {},
   "outputs": [
    {
     "name": "stdout",
     "output_type": "stream",
     "text": [
      "Number of columns:  28\n"
     ]
    }
   ],
   "source": [
    "print(\"Number of columns: \", la_crime_df.shape[1])"
   ]
  },
  {
   "cell_type": "code",
   "execution_count": 12,
   "id": "6063fe61",
   "metadata": {
    "scrolled": false
   },
   "outputs": [
    {
     "data": {
      "text/plain": [
       "DR_NO                0\n",
       "DateRptd             0\n",
       "DATEOCC              0\n",
       "TIMEOCC              0\n",
       "AREA                 0\n",
       "AREANAME             0\n",
       "RptDistNo            0\n",
       "Part1-2              0\n",
       "CrmCd                0\n",
       "CrmCdDesc            0\n",
       "Mocodes         129462\n",
       "VictAge              0\n",
       "VictSex         123158\n",
       "VictDescent     123168\n",
       "PremisCd            11\n",
       "PremisDesc         559\n",
       "WeaponUsedCd    606019\n",
       "WeaponDesc      606019\n",
       "Status               0\n",
       "StatusDesc           0\n",
       "CrmCd1              11\n",
       "CrmCd2          858483\n",
       "CrmCd3          923460\n",
       "CrmCd4          925656\n",
       "LOCATION             0\n",
       "CrossStreet     780494\n",
       "LAT                  0\n",
       "LON                  0\n",
       "dtype: int64"
      ]
     },
     "execution_count": 12,
     "metadata": {},
     "output_type": "execute_result"
    }
   ],
   "source": [
    "la_crime_df.isnull().sum() # checkin for the number of null values across the dataframe"
   ]
  },
  {
   "cell_type": "code",
   "execution_count": 13,
   "id": "e85db2fd",
   "metadata": {},
   "outputs": [
    {
     "data": {
      "text/plain": [
       "Index(['DR_NO', 'DateRptd', 'DATEOCC', 'TIMEOCC', 'AREA', 'AREANAME',\n",
       "       'RptDistNo', 'Part1-2', 'CrmCd', 'CrmCdDesc', 'Mocodes', 'VictAge',\n",
       "       'VictSex', 'VictDescent', 'PremisCd', 'PremisDesc', 'WeaponUsedCd',\n",
       "       'WeaponDesc', 'Status', 'StatusDesc', 'CrmCd1', 'CrmCd2', 'CrmCd3',\n",
       "       'CrmCd4', 'LOCATION', 'CrossStreet', 'LAT', 'LON'],\n",
       "      dtype='object')"
      ]
     },
     "execution_count": 13,
     "metadata": {},
     "output_type": "execute_result"
    }
   ],
   "source": [
    "la_crime_df.columns"
   ]
  },
  {
   "cell_type": "code",
   "execution_count": 15,
   "id": "37b367c8",
   "metadata": {
    "scrolled": true
   },
   "outputs": [
    {
     "data": {
      "text/html": [
       "<div>\n",
       "<style scoped>\n",
       "    .dataframe tbody tr th:only-of-type {\n",
       "        vertical-align: middle;\n",
       "    }\n",
       "\n",
       "    .dataframe tbody tr th {\n",
       "        vertical-align: top;\n",
       "    }\n",
       "\n",
       "    .dataframe thead th {\n",
       "        text-align: right;\n",
       "    }\n",
       "</style>\n",
       "<table border=\"1\" class=\"dataframe\">\n",
       "  <thead>\n",
       "    <tr style=\"text-align: right;\">\n",
       "      <th></th>\n",
       "      <th>DATEOCC</th>\n",
       "      <th>TIMEOCC</th>\n",
       "      <th>AREANAME</th>\n",
       "      <th>RptDistNo</th>\n",
       "      <th>Part1-2</th>\n",
       "      <th>CrmCdDesc</th>\n",
       "      <th>VictAge</th>\n",
       "      <th>VictSex</th>\n",
       "      <th>VictDescent</th>\n",
       "      <th>StatusDesc</th>\n",
       "      <th>CrmCd1</th>\n",
       "      <th>LAT</th>\n",
       "      <th>LON</th>\n",
       "    </tr>\n",
       "  </thead>\n",
       "  <tbody>\n",
       "    <tr>\n",
       "      <th>0</th>\n",
       "      <td>3/1/2020 0:00</td>\n",
       "      <td>2130</td>\n",
       "      <td>Wilshire</td>\n",
       "      <td>784</td>\n",
       "      <td>1</td>\n",
       "      <td>VEHICLE - STOLEN</td>\n",
       "      <td>0</td>\n",
       "      <td>M</td>\n",
       "      <td>O</td>\n",
       "      <td>Adult Arrest</td>\n",
       "      <td>510.0</td>\n",
       "      <td>34.0375</td>\n",
       "      <td>-118.3506</td>\n",
       "    </tr>\n",
       "  </tbody>\n",
       "</table>\n",
       "</div>"
      ],
      "text/plain": [
       "         DATEOCC  TIMEOCC  AREANAME  RptDistNo  Part1-2         CrmCdDesc  \\\n",
       "0  3/1/2020 0:00     2130  Wilshire        784        1  VEHICLE - STOLEN   \n",
       "\n",
       "   VictAge VictSex VictDescent    StatusDesc  CrmCd1      LAT       LON  \n",
       "0        0       M           O  Adult Arrest   510.0  34.0375 -118.3506  "
      ]
     },
     "execution_count": 15,
     "metadata": {},
     "output_type": "execute_result"
    }
   ],
   "source": [
    "la_crime_df = la_crime_df[[\"DATEOCC\",\"TIMEOCC\",\"AREANAME\",\"RptDistNo\",\"Part1-2\",\"CrmCdDesc\",\"VictAge\",\"VictSex\",\"VictDescent\",\n",
    "                           \"StatusDesc\",\"CrmCd1\",\"LAT\",\"LON\"]]\n",
    "la_crime_df.head(1)"
   ]
  },
  {
   "cell_type": "code",
   "execution_count": 16,
   "id": "e7c95c37",
   "metadata": {},
   "outputs": [
    {
     "data": {
      "text/plain": [
       "(925720, 13)"
      ]
     },
     "execution_count": 16,
     "metadata": {},
     "output_type": "execute_result"
    }
   ],
   "source": [
    "la_crime_df.shape"
   ]
  },
  {
   "cell_type": "code",
   "execution_count": 17,
   "id": "68fb46e4",
   "metadata": {},
   "outputs": [
    {
     "data": {
      "text/plain": [
       "DATEOCC             0\n",
       "TIMEOCC             0\n",
       "AREANAME            0\n",
       "RptDistNo           0\n",
       "Part1-2             0\n",
       "CrmCdDesc           0\n",
       "VictAge             0\n",
       "VictSex        123158\n",
       "VictDescent    123168\n",
       "StatusDesc          0\n",
       "CrmCd1             11\n",
       "LAT                 0\n",
       "LON                 0\n",
       "dtype: int64"
      ]
     },
     "execution_count": 17,
     "metadata": {},
     "output_type": "execute_result"
    }
   ],
   "source": [
    "la_crime_df.isnull().sum(axis = 0)"
   ]
  },
  {
   "cell_type": "code",
   "execution_count": 18,
   "id": "51c3a216",
   "metadata": {},
   "outputs": [
    {
     "data": {
      "text/plain": [
       "(802537, 13)"
      ]
     },
     "execution_count": 18,
     "metadata": {},
     "output_type": "execute_result"
    }
   ],
   "source": [
    "la_crime_df=la_crime_df.dropna()\n",
    "la_crime_df.shape"
   ]
  },
  {
   "cell_type": "code",
   "execution_count": 19,
   "id": "eea62e03",
   "metadata": {},
   "outputs": [
    {
     "data": {
      "text/html": [
       "<div>\n",
       "<style scoped>\n",
       "    .dataframe tbody tr th:only-of-type {\n",
       "        vertical-align: middle;\n",
       "    }\n",
       "\n",
       "    .dataframe tbody tr th {\n",
       "        vertical-align: top;\n",
       "    }\n",
       "\n",
       "    .dataframe thead th {\n",
       "        text-align: right;\n",
       "    }\n",
       "</style>\n",
       "<table border=\"1\" class=\"dataframe\">\n",
       "  <thead>\n",
       "    <tr style=\"text-align: right;\">\n",
       "      <th></th>\n",
       "      <th>DATEOCC</th>\n",
       "      <th>TIMEOCC</th>\n",
       "      <th>AREANAME</th>\n",
       "      <th>RptDistNo</th>\n",
       "      <th>Part1-2</th>\n",
       "      <th>CrmCdDesc</th>\n",
       "      <th>VictAge</th>\n",
       "      <th>VictSex</th>\n",
       "      <th>VictDescent</th>\n",
       "      <th>StatusDesc</th>\n",
       "      <th>CrmCd1</th>\n",
       "      <th>LAT</th>\n",
       "      <th>LON</th>\n",
       "    </tr>\n",
       "  </thead>\n",
       "  <tbody>\n",
       "    <tr>\n",
       "      <th>0</th>\n",
       "      <td>3/1/2020 0:00</td>\n",
       "      <td>2130</td>\n",
       "      <td>Wilshire</td>\n",
       "      <td>784</td>\n",
       "      <td>1</td>\n",
       "      <td>VEHICLE - STOLEN</td>\n",
       "      <td>0</td>\n",
       "      <td>M</td>\n",
       "      <td>O</td>\n",
       "      <td>Adult Arrest</td>\n",
       "      <td>510.0</td>\n",
       "      <td>34.0375</td>\n",
       "      <td>-118.3506</td>\n",
       "    </tr>\n",
       "    <tr>\n",
       "      <th>1</th>\n",
       "      <td>2/8/2020 0:00</td>\n",
       "      <td>1800</td>\n",
       "      <td>Central</td>\n",
       "      <td>182</td>\n",
       "      <td>1</td>\n",
       "      <td>BURGLARY FROM VEHICLE</td>\n",
       "      <td>47</td>\n",
       "      <td>M</td>\n",
       "      <td>O</td>\n",
       "      <td>Invest Cont</td>\n",
       "      <td>330.0</td>\n",
       "      <td>34.0444</td>\n",
       "      <td>-118.2628</td>\n",
       "    </tr>\n",
       "  </tbody>\n",
       "</table>\n",
       "</div>"
      ],
      "text/plain": [
       "         DATEOCC  TIMEOCC  AREANAME  RptDistNo  Part1-2  \\\n",
       "0  3/1/2020 0:00     2130  Wilshire        784        1   \n",
       "1  2/8/2020 0:00     1800   Central        182        1   \n",
       "\n",
       "               CrmCdDesc  VictAge VictSex VictDescent    StatusDesc  CrmCd1  \\\n",
       "0       VEHICLE - STOLEN        0       M           O  Adult Arrest   510.0   \n",
       "1  BURGLARY FROM VEHICLE       47       M           O   Invest Cont   330.0   \n",
       "\n",
       "       LAT       LON  \n",
       "0  34.0375 -118.3506  \n",
       "1  34.0444 -118.2628  "
      ]
     },
     "execution_count": 19,
     "metadata": {},
     "output_type": "execute_result"
    }
   ],
   "source": [
    "la_crime_df.head(2)"
   ]
  },
  {
   "cell_type": "code",
   "execution_count": 21,
   "id": "d0059c19",
   "metadata": {},
   "outputs": [
    {
     "data": {
      "text/plain": [
       "VictDescent\n",
       "H    281378\n",
       "W    187079\n",
       "B    129709\n",
       "X     93922\n",
       "O     73010\n",
       "A     20311\n",
       "K      5085\n",
       "F      4002\n",
       "C      3712\n",
       "J      1305\n",
       "V       987\n",
       "I       882\n",
       "Z       458\n",
       "P       250\n",
       "U       190\n",
       "D        75\n",
       "G        67\n",
       "L        63\n",
       "S        50\n",
       "Name: count, dtype: int64"
      ]
     },
     "execution_count": 21,
     "metadata": {},
     "output_type": "execute_result"
    }
   ],
   "source": [
    "#to remove the \"-\" in the column Vict Descent\n",
    "filtered_df = la_crime_df[la_crime_df[\"VictDescent\"]!=\"-\"]\n",
    "la_crime_df = filtered_df\n",
    "la_crime_df[\"VictDescent\"].value_counts()"
   ]
  },
  {
   "cell_type": "code",
   "execution_count": 22,
   "id": "ebff396c",
   "metadata": {},
   "outputs": [
    {
     "data": {
      "text/plain": [
       "DATEOCC        0\n",
       "TIMEOCC        0\n",
       "AREANAME       0\n",
       "RptDistNo      0\n",
       "Part1-2        0\n",
       "CrmCdDesc      0\n",
       "VictAge        0\n",
       "VictSex        0\n",
       "VictDescent    0\n",
       "StatusDesc     0\n",
       "CrmCd1         0\n",
       "LAT            0\n",
       "LON            0\n",
       "dtype: int64"
      ]
     },
     "execution_count": 22,
     "metadata": {},
     "output_type": "execute_result"
    }
   ],
   "source": [
    "la_crime_df.isnull().sum()"
   ]
  },
  {
   "cell_type": "code",
   "execution_count": 23,
   "id": "85490492",
   "metadata": {},
   "outputs": [
    {
     "name": "stdout",
     "output_type": "stream",
     "text": [
      "<class 'pandas.core.frame.DataFrame'>\n",
      "Index: 802535 entries, 0 to 925719\n",
      "Data columns (total 13 columns):\n",
      " #   Column       Non-Null Count   Dtype  \n",
      "---  ------       --------------   -----  \n",
      " 0   DATEOCC      802535 non-null  object \n",
      " 1   TIMEOCC      802535 non-null  int64  \n",
      " 2   AREANAME     802535 non-null  object \n",
      " 3   RptDistNo    802535 non-null  int64  \n",
      " 4   Part1-2      802535 non-null  int64  \n",
      " 5   CrmCdDesc    802535 non-null  object \n",
      " 6   VictAge      802535 non-null  int64  \n",
      " 7   VictSex      802535 non-null  object \n",
      " 8   VictDescent  802535 non-null  object \n",
      " 9   StatusDesc   802535 non-null  object \n",
      " 10  CrmCd1       802535 non-null  float64\n",
      " 11  LAT          802535 non-null  float64\n",
      " 12  LON          802535 non-null  float64\n",
      "dtypes: float64(3), int64(4), object(6)\n",
      "memory usage: 85.7+ MB\n"
     ]
    }
   ],
   "source": [
    "la_crime_df.info()"
   ]
  },
  {
   "cell_type": "code",
   "execution_count": 24,
   "id": "a1126d04",
   "metadata": {},
   "outputs": [
    {
     "name": "stderr",
     "output_type": "stream",
     "text": [
      "C:\\Users\\kengt\\AppData\\Local\\Temp\\ipykernel_29692\\4122990672.py:2: SettingWithCopyWarning: \n",
      "A value is trying to be set on a copy of a slice from a DataFrame\n",
      "\n",
      "See the caveats in the documentation: https://pandas.pydata.org/pandas-docs/stable/user_guide/indexing.html#returning-a-view-versus-a-copy\n",
      "  la_crime_df.rename(columns={\"DATEOCC\":\"Date_Occ\",\"TIMEOCC\":\"Time_Occ\",\"AREANAME\":\"Area_Name\",\"RptDistNo\":\"Rpt_Dist_No\",\n"
     ]
    }
   ],
   "source": [
    "# renaming for better readability\n",
    "la_crime_df.rename(columns={\"DATEOCC\":\"Date_Occ\",\"TIMEOCC\":\"Time_Occ\",\"AREANAME\":\"Area_Name\",\"RptDistNo\":\"Rpt_Dist_No\",\n",
    "                            \"Part1-2\":\"Part_1-2\",\"CrmCdDesc\":\"Crm_Cd_Desc\",\"VictAge\":\"Vict_Age\",\"VictSex\":\"Vict_Sex\",\n",
    "                           \"VictDescent\":\"Vict_Descent\",\"StatusDesc\":\"Status_Desc\",\"CrmCd1\":\"Crm_Cd_1\",\n",
    "                            \"LAT\":\"Lat\",\"LON\":\"Lon\"}, inplace = True)"
   ]
  },
  {
   "cell_type": "code",
   "execution_count": 25,
   "id": "ab0f0c5a",
   "metadata": {
    "scrolled": true
   },
   "outputs": [
    {
     "data": {
      "text/html": [
       "<div>\n",
       "<style scoped>\n",
       "    .dataframe tbody tr th:only-of-type {\n",
       "        vertical-align: middle;\n",
       "    }\n",
       "\n",
       "    .dataframe tbody tr th {\n",
       "        vertical-align: top;\n",
       "    }\n",
       "\n",
       "    .dataframe thead th {\n",
       "        text-align: right;\n",
       "    }\n",
       "</style>\n",
       "<table border=\"1\" class=\"dataframe\">\n",
       "  <thead>\n",
       "    <tr style=\"text-align: right;\">\n",
       "      <th></th>\n",
       "      <th>Lat</th>\n",
       "      <th>Lon</th>\n",
       "      <th>Vict_Age</th>\n",
       "    </tr>\n",
       "  </thead>\n",
       "  <tbody>\n",
       "    <tr>\n",
       "      <th>Lat</th>\n",
       "      <td>1.000000</td>\n",
       "      <td>-0.998547</td>\n",
       "      <td>0.008387</td>\n",
       "    </tr>\n",
       "    <tr>\n",
       "      <th>Lon</th>\n",
       "      <td>-0.998547</td>\n",
       "      <td>1.000000</td>\n",
       "      <td>-0.007316</td>\n",
       "    </tr>\n",
       "    <tr>\n",
       "      <th>Vict_Age</th>\n",
       "      <td>0.008387</td>\n",
       "      <td>-0.007316</td>\n",
       "      <td>1.000000</td>\n",
       "    </tr>\n",
       "  </tbody>\n",
       "</table>\n",
       "</div>"
      ],
      "text/plain": [
       "               Lat       Lon  Vict_Age\n",
       "Lat       1.000000 -0.998547  0.008387\n",
       "Lon      -0.998547  1.000000 -0.007316\n",
       "Vict_Age  0.008387 -0.007316  1.000000"
      ]
     },
     "execution_count": 25,
     "metadata": {},
     "output_type": "execute_result"
    }
   ],
   "source": [
    "la_crime_df.head(1)\n",
    "corr = la_crime_df[[\"Lat\",\"Lon\",\"Vict_Age\"]].corr()\n",
    "corr"
   ]
  },
  {
   "cell_type": "code",
   "execution_count": 26,
   "id": "6f84f3ac",
   "metadata": {},
   "outputs": [
    {
     "name": "stderr",
     "output_type": "stream",
     "text": [
      "C:\\Users\\kengt\\AppData\\Local\\Temp\\ipykernel_29692\\2930072999.py:4: SettingWithCopyWarning: \n",
      "A value is trying to be set on a copy of a slice from a DataFrame.\n",
      "Try using .loc[row_indexer,col_indexer] = value instead\n",
      "\n",
      "See the caveats in the documentation: https://pandas.pydata.org/pandas-docs/stable/user_guide/indexing.html#returning-a-view-versus-a-copy\n",
      "  la_crime_df['Date_Occ'] = pd.to_datetime(la_crime_df['Date_Occ'])\n"
     ]
    }
   ],
   "source": [
    "\n",
    "\n",
    "# Convert the 'DateTime' column to datetime type if not alread\n",
    "\n",
    "\n",
    "la_crime_df['Date_Occ'] = pd.to_datetime(la_crime_df['Date_Occ'])\n",
    "\n"
   ]
  },
  {
   "cell_type": "code",
   "execution_count": 27,
   "id": "357fd51f",
   "metadata": {},
   "outputs": [
    {
     "data": {
      "text/html": [
       "<div>\n",
       "<style scoped>\n",
       "    .dataframe tbody tr th:only-of-type {\n",
       "        vertical-align: middle;\n",
       "    }\n",
       "\n",
       "    .dataframe tbody tr th {\n",
       "        vertical-align: top;\n",
       "    }\n",
       "\n",
       "    .dataframe thead th {\n",
       "        text-align: right;\n",
       "    }\n",
       "</style>\n",
       "<table border=\"1\" class=\"dataframe\">\n",
       "  <thead>\n",
       "    <tr style=\"text-align: right;\">\n",
       "      <th></th>\n",
       "      <th>Date_Occ</th>\n",
       "      <th>Time_Occ</th>\n",
       "      <th>Area_Name</th>\n",
       "      <th>Rpt_Dist_No</th>\n",
       "      <th>Part_1-2</th>\n",
       "      <th>Crm_Cd_Desc</th>\n",
       "      <th>Vict_Age</th>\n",
       "      <th>Vict_Sex</th>\n",
       "      <th>Vict_Descent</th>\n",
       "      <th>Status_Desc</th>\n",
       "      <th>Crm_Cd_1</th>\n",
       "      <th>Lat</th>\n",
       "      <th>Lon</th>\n",
       "    </tr>\n",
       "  </thead>\n",
       "  <tbody>\n",
       "    <tr>\n",
       "      <th>0</th>\n",
       "      <td>2020-03-01</td>\n",
       "      <td>2130</td>\n",
       "      <td>Wilshire</td>\n",
       "      <td>784</td>\n",
       "      <td>1</td>\n",
       "      <td>VEHICLE - STOLEN</td>\n",
       "      <td>0</td>\n",
       "      <td>M</td>\n",
       "      <td>O</td>\n",
       "      <td>Adult Arrest</td>\n",
       "      <td>510.0</td>\n",
       "      <td>34.0375</td>\n",
       "      <td>-118.3506</td>\n",
       "    </tr>\n",
       "  </tbody>\n",
       "</table>\n",
       "</div>"
      ],
      "text/plain": [
       "    Date_Occ  Time_Occ Area_Name  Rpt_Dist_No  Part_1-2       Crm_Cd_Desc  \\\n",
       "0 2020-03-01      2130  Wilshire          784         1  VEHICLE - STOLEN   \n",
       "\n",
       "   Vict_Age Vict_Sex Vict_Descent   Status_Desc  Crm_Cd_1      Lat       Lon  \n",
       "0         0        M            O  Adult Arrest     510.0  34.0375 -118.3506  "
      ]
     },
     "execution_count": 27,
     "metadata": {},
     "output_type": "execute_result"
    }
   ],
   "source": [
    "la_crime_df.head(1)"
   ]
  },
  {
   "cell_type": "code",
   "execution_count": 28,
   "id": "dda36a53",
   "metadata": {},
   "outputs": [
    {
     "name": "stdout",
     "output_type": "stream",
     "text": [
      "<class 'pandas.core.frame.DataFrame'>\n",
      "Index: 802535 entries, 0 to 925719\n",
      "Data columns (total 13 columns):\n",
      " #   Column        Non-Null Count   Dtype         \n",
      "---  ------        --------------   -----         \n",
      " 0   Date_Occ      802535 non-null  datetime64[ns]\n",
      " 1   Time_Occ      802535 non-null  int64         \n",
      " 2   Area_Name     802535 non-null  object        \n",
      " 3   Rpt_Dist_No   802535 non-null  int64         \n",
      " 4   Part_1-2      802535 non-null  int64         \n",
      " 5   Crm_Cd_Desc   802535 non-null  object        \n",
      " 6   Vict_Age      802535 non-null  int64         \n",
      " 7   Vict_Sex      802535 non-null  object        \n",
      " 8   Vict_Descent  802535 non-null  object        \n",
      " 9   Status_Desc   802535 non-null  object        \n",
      " 10  Crm_Cd_1      802535 non-null  float64       \n",
      " 11  Lat           802535 non-null  float64       \n",
      " 12  Lon           802535 non-null  float64       \n",
      "dtypes: datetime64[ns](1), float64(3), int64(4), object(5)\n",
      "memory usage: 85.7+ MB\n"
     ]
    }
   ],
   "source": [
    "la_crime_df.info()"
   ]
  },
  {
   "cell_type": "code",
   "execution_count": 29,
   "id": "5e12c90d",
   "metadata": {},
   "outputs": [
    {
     "data": {
      "text/plain": [
       "Vict_Sex\n",
       "M    379020\n",
       "F    337975\n",
       "X     85434\n",
       "Name: count, dtype: int64"
      ]
     },
     "execution_count": 29,
     "metadata": {},
     "output_type": "execute_result"
    }
   ],
   "source": [
    "# To remove the value H value of Vict_Sex\n",
    "la_crime_df=la_crime_df[la_crime_df[\"Vict_Sex\"]!=\"H\"]\n",
    "la_crime_df[\"Vict_Sex\"].value_counts()"
   ]
  },
  {
   "cell_type": "code",
   "execution_count": 30,
   "id": "393981f3",
   "metadata": {},
   "outputs": [
    {
     "data": {
      "text/plain": [
       "Date_Occ        1553\n",
       "Time_Occ        1439\n",
       "Area_Name         21\n",
       "Rpt_Dist_No     1199\n",
       "Part_1-2           2\n",
       "Crm_Cd_Desc      138\n",
       "Vict_Age         103\n",
       "Vict_Sex           3\n",
       "Vict_Descent      19\n",
       "Status_Desc        6\n",
       "Crm_Cd_1         139\n",
       "Lat             5376\n",
       "Lon             4968\n",
       "dtype: int64"
      ]
     },
     "execution_count": 30,
     "metadata": {},
     "output_type": "execute_result"
    }
   ],
   "source": [
    "la_crime_df.nunique()"
   ]
  },
  {
   "cell_type": "code",
   "execution_count": 31,
   "id": "8d87ac27",
   "metadata": {},
   "outputs": [
    {
     "data": {
      "text/plain": [
       "21"
      ]
     },
     "execution_count": 31,
     "metadata": {},
     "output_type": "execute_result"
    }
   ],
   "source": [
    "la_crime_df[\"Area_Name\"].nunique()"
   ]
  },
  {
   "cell_type": "code",
   "execution_count": 32,
   "id": "186cf2a4",
   "metadata": {
    "scrolled": false
   },
   "outputs": [
    {
     "data": {
      "text/plain": [
       "Area_Name\n",
       "Central        57981\n",
       "77th Street    49198\n",
       "Pacific        46137\n",
       "Southwest      44808\n",
       "Hollywood      44421\n",
       "N Hollywood    40753\n",
       "Olympic        40669\n",
       "Wilshire       39826\n",
       "Southeast      39272\n",
       "West LA        38613\n",
       "Name: count, dtype: int64"
      ]
     },
     "execution_count": 32,
     "metadata": {},
     "output_type": "execute_result"
    }
   ],
   "source": [
    "# Top 10 crime location\n",
    "la_crime_df[\"Area_Name\"].value_counts().head(10)"
   ]
  },
  {
   "cell_type": "code",
   "execution_count": 33,
   "id": "91c7713a",
   "metadata": {},
   "outputs": [
    {
     "data": {
      "text/plain": [
       "array(['Wilshire', 'Central', 'Southwest', 'Van Nuys', 'Hollywood',\n",
       "       'Southeast', 'Newton', 'Mission', 'Rampart', 'West Valley',\n",
       "       'West LA', 'Olympic', 'Topanga', 'Northeast', '77th Street',\n",
       "       'N Hollywood', 'Hollenbeck', 'Harbor', 'Foothill', 'Devonshire',\n",
       "       'Pacific'], dtype=object)"
      ]
     },
     "execution_count": 33,
     "metadata": {},
     "output_type": "execute_result"
    }
   ],
   "source": [
    "la_crime_df[\"Area_Name\"].unique()"
   ]
  },
  {
   "cell_type": "code",
   "execution_count": 34,
   "id": "07215be2",
   "metadata": {},
   "outputs": [
    {
     "data": {
      "image/png": "[encoded data removed]",
      "text/plain": [
       "<Figure size 1000x600 with 1 Axes>"
      ]
     },
     "metadata": {},
     "output_type": "display_data"
    }
   ],
   "source": [
    "\n",
    "# Calculate value counts\n",
    "area_counts = la_crime_df[\"Area_Name\"].value_counts()\n",
    "\n",
    "# Plotting\n",
    "plt.figure(figsize=(10, 6))\n",
    "plt.bar(area_counts.index, area_counts.values)  # Use index and values to align data correctly\n",
    "plt.xlabel(\"Area Name\")\n",
    "plt.ylabel(\"Counts\")\n",
    "plt.title(\"Crime Count by Area Name\")\n",
    "plt.xticks(rotation=45)  # Optional: Rotate the area names for better readability\n",
    "plt.show()\n"
   ]
  },
  {
   "cell_type": "code",
   "execution_count": 35,
   "id": "3314842c",
   "metadata": {},
   "outputs": [
    {
     "data": {
      "text/plain": [
       "138"
      ]
     },
     "execution_count": 35,
     "metadata": {},
     "output_type": "execute_result"
    }
   ],
   "source": [
    "la_crime_df[\"Crm_Cd_Desc\"].nunique() # numbe of crime descriptions"
   ]
  },
  {
   "cell_type": "code",
   "execution_count": 36,
   "id": "c49d458b",
   "metadata": {},
   "outputs": [
    {
     "data": {
      "text/plain": [
       "Crm_Cd_Desc\n",
       "BATTERY - SIMPLE ASSAULT                                   73348\n",
       "BURGLARY FROM VEHICLE                                      57042\n",
       "THEFT OF IDENTITY                                          57031\n",
       "BURGLARY                                                   56669\n",
       "VANDALISM - FELONY ($400 & OVER, ALL CHURCH VANDALISMS)    56107\n",
       "ASSAULT WITH DEADLY WEAPON, AGGRAVATED ASSAULT             52462\n",
       "THEFT PLAIN - PETTY ($950 & UNDER)                         47108\n",
       "INTIMATE PARTNER - SIMPLE ASSAULT                          45882\n",
       "THEFT FROM MOTOR VEHICLE - GRAND ($950.01 AND OVER)        33048\n",
       "ROBBERY                                                    31491\n",
       "Name: count, dtype: int64"
      ]
     },
     "execution_count": 36,
     "metadata": {},
     "output_type": "execute_result"
    }
   ],
   "source": [
    "# the top 10 crime types\n",
    "la_crime_df[\"Crm_Cd_Desc\"].value_counts().head(10)"
   ]
  },
  {
   "cell_type": "code",
   "execution_count": 37,
   "id": "0cdcad76",
   "metadata": {},
   "outputs": [
    {
     "data": {
      "image/png": "[encoded data removed]",
      "text/plain": [
       "<Figure size 800x400 with 1 Axes>"
      ]
     },
     "metadata": {},
     "output_type": "display_data"
    }
   ],
   "source": [
    "\n",
    "# Calculate value counts for the 'Vict_Sex' column\n",
    "sex_counts = la_crime_df['Vict_Sex'].value_counts()\n",
    "\n",
    "# Calculate total instances\n",
    "total_instances = sex_counts.sum()\n",
    "\n",
    "# Calculate percentages\n",
    "sex_percentages = (sex_counts / total_instances) * 100\n",
    "\n",
    "# Plotting\n",
    "plt.figure(figsize=(8, 4))  # Adjust the figure size as needed\n",
    "bars = plt.bar(sex_percentages.index, sex_percentages.values, color='blue')  # Choose any color you like\n",
    "\n",
    "# Adding text labels on the bars\n",
    "for bar in bars:\n",
    "    yval = bar.get_height()  # Get the height of the bar\n",
    "    plt.text(bar.get_x() + bar.get_width()/2, yval, f'{yval:.2f}%', ha='center', va='bottom')  # Position text inside the bars\n",
    "\n",
    "plt.xlabel('Victim Sex')\n",
    "plt.ylabel('Percentage of Crimes (%)')\n",
    "plt.title('Percentage of Crimes by Victim Sex')\n",
    "plt.xticks(rotation=45)  # Rotate labels if necessary\n",
    "plt.savefig(\"static/Images/victim_sex_percentile.png\")\n",
    "plt.show()\n"
   ]
  },
  {
   "cell_type": "code",
   "execution_count": 38,
   "id": "5d18932d",
   "metadata": {},
   "outputs": [
    {
     "name": "stderr",
     "output_type": "stream",
     "text": [
      "C:\\Users\\kengt\\AppData\\Local\\Temp\\ipykernel_29692\\2823949429.py:2: SettingWithCopyWarning: \n",
      "A value is trying to be set on a copy of a slice from a DataFrame.\n",
      "Try using .loc[row_indexer,col_indexer] = value instead\n",
      "\n",
      "See the caveats in the documentation: https://pandas.pydata.org/pandas-docs/stable/user_guide/indexing.html#returning-a-view-versus-a-copy\n",
      "  la_crime_df['Time_Occ'] = la_crime_df['Time_Occ'].astype(str).str.zfill(4)\n"
     ]
    },
    {
     "name": "stdout",
     "output_type": "stream",
     "text": [
      "       Time_Occ  24Hour_Occ\n",
      "0          2130          21\n",
      "1          1800          18\n",
      "2          1700          17\n",
      "3          2037          20\n",
      "4          1200          12\n",
      "...         ...         ...\n",
      "925715     1920          19\n",
      "925716     0720           7\n",
      "925717     2330          23\n",
      "925718     1510          15\n",
      "925719     0100           1\n",
      "\n",
      "[802429 rows x 2 columns]\n"
     ]
    },
    {
     "name": "stderr",
     "output_type": "stream",
     "text": [
      "C:\\Users\\kengt\\AppData\\Local\\Temp\\ipykernel_29692\\2823949429.py:5: SettingWithCopyWarning: \n",
      "A value is trying to be set on a copy of a slice from a DataFrame.\n",
      "Try using .loc[row_indexer,col_indexer] = value instead\n",
      "\n",
      "See the caveats in the documentation: https://pandas.pydata.org/pandas-docs/stable/user_guide/indexing.html#returning-a-view-versus-a-copy\n",
      "  la_crime_df['24Hour_Occ'] = la_crime_df['Time_Occ'].str.slice(start=0, stop=2).astype(int)\n"
     ]
    }
   ],
   "source": [
    "\n",
    "# Convert the column to string and ensure it has at least 4 digits (HHMM format)\n",
    "la_crime_df['Time_Occ'] = la_crime_df['Time_Occ'].astype(str).str.zfill(4)\n",
    "\n",
    "# Extract the hour part (HH) by slicing the string\n",
    "la_crime_df['24Hour_Occ'] = la_crime_df['Time_Occ'].str.slice(start=0, stop=2).astype(int)\n",
    "\n",
    "# Now you can check the transformed data\n",
    "print(la_crime_df[['Time_Occ', '24Hour_Occ']])\n"
   ]
  },
  {
   "cell_type": "code",
   "execution_count": 39,
   "id": "a73b4161",
   "metadata": {},
   "outputs": [
    {
     "data": {
      "image/png": "[encoded data removed]",
      "text/plain": [
       "<Figure size 1000x600 with 1 Axes>"
      ]
     },
     "metadata": {},
     "output_type": "display_data"
    }
   ],
   "source": [
    "\n",
    "\n",
    "# Group by '24Hour_Occ' and count the number of crimes\n",
    "hourly_crimes = la_crime_df.groupby('24Hour_Occ').size()\n",
    "\n",
    "# Plotting\n",
    "plt.figure(figsize=(10, 6))  # Set the figure size as needed\n",
    "hourly_crimes.plot(kind='bar', edgecolor='black')\n",
    "\n",
    "# Set the labels and title\n",
    "plt.xlabel('Hour of the Day')\n",
    "plt.ylabel('Number of Crimes')\n",
    "plt.title('Number of Crimes per Hour')\n",
    "plt.xticks(range(0, 24), rotation=0)  # Set x-ticks to be every hour\n",
    "plt.savefig(\"static/Images/crime_by_hour.png\")\n",
    "plt.show()\n"
   ]
  },
  {
   "cell_type": "code",
   "execution_count": 40,
   "id": "bb0f29dd",
   "metadata": {
    "scrolled": false
   },
   "outputs": [
    {
     "data": {
      "text/html": [
       "<div>\n",
       "<style scoped>\n",
       "    .dataframe tbody tr th:only-of-type {\n",
       "        vertical-align: middle;\n",
       "    }\n",
       "\n",
       "    .dataframe tbody tr th {\n",
       "        vertical-align: top;\n",
       "    }\n",
       "\n",
       "    .dataframe thead th {\n",
       "        text-align: right;\n",
       "    }\n",
       "</style>\n",
       "<table border=\"1\" class=\"dataframe\">\n",
       "  <thead>\n",
       "    <tr style=\"text-align: right;\">\n",
       "      <th></th>\n",
       "      <th>Date_Occ</th>\n",
       "      <th>Time_Occ</th>\n",
       "      <th>Area_Name</th>\n",
       "      <th>Rpt_Dist_No</th>\n",
       "      <th>Part_1-2</th>\n",
       "      <th>Crm_Cd_Desc</th>\n",
       "      <th>Vict_Age</th>\n",
       "      <th>Vict_Sex</th>\n",
       "      <th>Vict_Descent</th>\n",
       "      <th>Status_Desc</th>\n",
       "      <th>Crm_Cd_1</th>\n",
       "      <th>Lat</th>\n",
       "      <th>Lon</th>\n",
       "      <th>24Hour_Occ</th>\n",
       "    </tr>\n",
       "  </thead>\n",
       "  <tbody>\n",
       "    <tr>\n",
       "      <th>0</th>\n",
       "      <td>2020-03-01</td>\n",
       "      <td>2130</td>\n",
       "      <td>Wilshire</td>\n",
       "      <td>784</td>\n",
       "      <td>1</td>\n",
       "      <td>VEHICLE - STOLEN</td>\n",
       "      <td>0</td>\n",
       "      <td>M</td>\n",
       "      <td>O</td>\n",
       "      <td>Adult Arrest</td>\n",
       "      <td>510.0</td>\n",
       "      <td>34.0375</td>\n",
       "      <td>-118.3506</td>\n",
       "      <td>21</td>\n",
       "    </tr>\n",
       "    <tr>\n",
       "      <th>1</th>\n",
       "      <td>2020-02-08</td>\n",
       "      <td>1800</td>\n",
       "      <td>Central</td>\n",
       "      <td>182</td>\n",
       "      <td>1</td>\n",
       "      <td>BURGLARY FROM VEHICLE</td>\n",
       "      <td>47</td>\n",
       "      <td>M</td>\n",
       "      <td>O</td>\n",
       "      <td>Invest Cont</td>\n",
       "      <td>330.0</td>\n",
       "      <td>34.0444</td>\n",
       "      <td>-118.2628</td>\n",
       "      <td>18</td>\n",
       "    </tr>\n",
       "    <tr>\n",
       "      <th>2</th>\n",
       "      <td>2020-11-04</td>\n",
       "      <td>1700</td>\n",
       "      <td>Southwest</td>\n",
       "      <td>356</td>\n",
       "      <td>1</td>\n",
       "      <td>BIKE - STOLEN</td>\n",
       "      <td>19</td>\n",
       "      <td>X</td>\n",
       "      <td>X</td>\n",
       "      <td>Invest Cont</td>\n",
       "      <td>480.0</td>\n",
       "      <td>34.0210</td>\n",
       "      <td>-118.3002</td>\n",
       "      <td>17</td>\n",
       "    </tr>\n",
       "    <tr>\n",
       "      <th>3</th>\n",
       "      <td>2020-03-10</td>\n",
       "      <td>2037</td>\n",
       "      <td>Van Nuys</td>\n",
       "      <td>964</td>\n",
       "      <td>1</td>\n",
       "      <td>SHOPLIFTING-GRAND THEFT ($950.01 &amp; OVER)</td>\n",
       "      <td>19</td>\n",
       "      <td>M</td>\n",
       "      <td>O</td>\n",
       "      <td>Invest Cont</td>\n",
       "      <td>343.0</td>\n",
       "      <td>34.1576</td>\n",
       "      <td>-118.4387</td>\n",
       "      <td>20</td>\n",
       "    </tr>\n",
       "    <tr>\n",
       "      <th>4</th>\n",
       "      <td>2020-08-17</td>\n",
       "      <td>1200</td>\n",
       "      <td>Hollywood</td>\n",
       "      <td>666</td>\n",
       "      <td>2</td>\n",
       "      <td>THEFT OF IDENTITY</td>\n",
       "      <td>28</td>\n",
       "      <td>M</td>\n",
       "      <td>H</td>\n",
       "      <td>Invest Cont</td>\n",
       "      <td>354.0</td>\n",
       "      <td>34.0944</td>\n",
       "      <td>-118.3277</td>\n",
       "      <td>12</td>\n",
       "    </tr>\n",
       "  </tbody>\n",
       "</table>\n",
       "</div>"
      ],
      "text/plain": [
       "    Date_Occ Time_Occ  Area_Name  Rpt_Dist_No  Part_1-2  \\\n",
       "0 2020-03-01     2130   Wilshire          784         1   \n",
       "1 2020-02-08     1800    Central          182         1   \n",
       "2 2020-11-04     1700  Southwest          356         1   \n",
       "3 2020-03-10     2037   Van Nuys          964         1   \n",
       "4 2020-08-17     1200  Hollywood          666         2   \n",
       "\n",
       "                                Crm_Cd_Desc  Vict_Age Vict_Sex Vict_Descent  \\\n",
       "0                          VEHICLE - STOLEN         0        M            O   \n",
       "1                     BURGLARY FROM VEHICLE        47        M            O   \n",
       "2                             BIKE - STOLEN        19        X            X   \n",
       "3  SHOPLIFTING-GRAND THEFT ($950.01 & OVER)        19        M            O   \n",
       "4                         THEFT OF IDENTITY        28        M            H   \n",
       "\n",
       "    Status_Desc  Crm_Cd_1      Lat       Lon  24Hour_Occ  \n",
       "0  Adult Arrest     510.0  34.0375 -118.3506          21  \n",
       "1   Invest Cont     330.0  34.0444 -118.2628          18  \n",
       "2   Invest Cont     480.0  34.0210 -118.3002          17  \n",
       "3   Invest Cont     343.0  34.1576 -118.4387          20  \n",
       "4   Invest Cont     354.0  34.0944 -118.3277          12  "
      ]
     },
     "execution_count": 40,
     "metadata": {},
     "output_type": "execute_result"
    }
   ],
   "source": [
    "la_crime_df.head()"
   ]
  },
  {
   "cell_type": "code",
   "execution_count": null,
   "id": "ff760622",
   "metadata": {},
   "outputs": [],
   "source": []
  },
  {
   "cell_type": "code",
   "execution_count": 41,
   "id": "90885dcd",
   "metadata": {},
   "outputs": [],
   "source": [
    "#Filtering out Vict_Age to greater than zero\n",
    "la_crime_df = la_crime_df[la_crime_df[\"Vict_Age\"]> 0]"
   ]
  },
  {
   "cell_type": "code",
   "execution_count": 42,
   "id": "cfd1179b",
   "metadata": {
    "scrolled": true
   },
   "outputs": [
    {
     "data": {
      "image/png": "[encoded data removed]",
      "text/plain": [
       "<Figure size 800x400 with 1 Axes>"
      ]
     },
     "metadata": {},
     "output_type": "display_data"
    }
   ],
   "source": [
    "# Age of Victims Distribution\n",
    "\n",
    "\n",
    "la_crime_df['Vict_Age'] = pd.to_numeric(la_crime_df['Vict_Age'], errors='coerce')\n",
    "\n",
    "# Drop any NaN values that may have resulted from conversion errors or existing in data\n",
    "la_crime_df = la_crime_df.dropna(subset=['Vict_Age'])\n",
    "\n",
    "# Plotting a histogram of the 'Age' column\n",
    "plt.figure(figsize=(8, 4))\n",
    "plt.hist(la_crime_df['Vict_Age'], bins=25, alpha=0.7)  # Adjust the number of bins as needed\n",
    "plt.xlabel('Victim Age')\n",
    "plt.ylabel('Counts')\n",
    "plt.title('Distribution of Age in Crime Data')\n",
    "plt.grid(True)  # Optional: Adds a grid for easier visualization\n",
    "plt.savefig(\"static/Images/victim_age_distribution.png\")\n",
    "plt.show()\n"
   ]
  },
  {
   "cell_type": "code",
   "execution_count": 43,
   "id": "b6850359",
   "metadata": {},
   "outputs": [
    {
     "data": {
      "text/plain": [
       "(99, 2)"
      ]
     },
     "execution_count": 43,
     "metadata": {},
     "output_type": "execute_result"
    }
   ],
   "source": [
    "la_crime_df[\"Vict_Age\"].max(), la_crime_df[\"Vict_Age\"].min()"
   ]
  },
  {
   "cell_type": "code",
   "execution_count": 44,
   "id": "70444022",
   "metadata": {},
   "outputs": [
    {
     "data": {
      "text/plain": [
       "Vict_Descent\n",
       "A     19980\n",
       "B    128204\n",
       "C      3706\n",
       "D        75\n",
       "F      3938\n",
       "G        67\n",
       "H    276655\n",
       "I       881\n",
       "J      1304\n",
       "K      5059\n",
       "L        62\n",
       "O     60991\n",
       "P       249\n",
       "S        45\n",
       "U       156\n",
       "V       981\n",
       "W    173400\n",
       "X     15065\n",
       "Z       458\n",
       "Name: Vict_Age, dtype: int64"
      ]
     },
     "execution_count": 44,
     "metadata": {},
     "output_type": "execute_result"
    }
   ],
   "source": [
    "# Top 5 Vict Descents\n",
    "top5 =la_crime_df.groupby([\"Vict_Descent\"])[\"Vict_Age\"].count()\n",
    "top5"
   ]
  },
  {
   "cell_type": "code",
   "execution_count": 45,
   "id": "067f2c19",
   "metadata": {},
   "outputs": [
    {
     "data": {
      "image/png": "[encoded data removed]",
      "text/plain": [
       "<Figure size 1200x800 with 1 Axes>"
      ]
     },
     "metadata": {},
     "output_type": "display_data"
    }
   ],
   "source": [
    "\n",
    "# Calculate the value counts for the 'Vict_Descent' column\n",
    "descent_counts = la_crime_df['Vict_Descent'].value_counts()\n",
    "\n",
    "# Plotting\n",
    "plt.figure(figsize=(12, 8))  # Adjust the size as needed\n",
    "plt.bar(descent_counts.index, descent_counts.values)\n",
    "plt.xlabel('Victim Descent')\n",
    "plt.ylabel('Counts')\n",
    "plt.title('Crime Count by Victim Descent')\n",
    "plt.xticks(rotation=90)  # Rotate labels for better readability if there are many categories\n",
    "plt.show()\n"
   ]
  },
  {
   "cell_type": "code",
   "execution_count": null,
   "id": "43833a1e",
   "metadata": {},
   "outputs": [],
   "source": []
  },
  {
   "cell_type": "code",
   "execution_count": 46,
   "id": "926c3039",
   "metadata": {},
   "outputs": [
    {
     "data": {
      "image/png": "[encoded data removed]",
      "text/plain": [
       "<Figure size 1000x600 with 1 Axes>"
      ]
     },
     "metadata": {},
     "output_type": "display_data"
    }
   ],
   "source": [
    "\n",
    "\n",
    "# Renaming values in the 'Vict_Descent' column\n",
    "rename_dict = {\n",
    "    'H': 'Hispanic/Latin/Mexican',\n",
    "    'B': 'Black',\n",
    "    'W': 'White',\n",
    "    'A': 'Other Asian',\n",
    "    'X': 'Unknown',\n",
    "    'C': 'Chinese',\n",
    "    'D': 'Cambodian',  # Note the typo fix from 'Combodian' to 'Cambodian'\n",
    "    'F': 'Filipino',\n",
    "    'G': 'Guamanian',\n",
    "    'I': 'American Indian/Alaskan Native',  # Minor correction for consistency\n",
    "    'J': 'Japanese',\n",
    "    'K': 'Korean',\n",
    "    'L': 'Laotian',\n",
    "    'O': 'Other',\n",
    "    'S': 'Samoan',\n",
    "    'U': 'Hawaiian',\n",
    "    'V': 'Vietnamese',\n",
    "    'Z': 'Asian Indian'\n",
    "}\n",
    "\n",
    "\n",
    "# Renaming ethnicities in the dataframe for clarity\n",
    "la_crime_df[\"Vict_Descent\"] = la_crime_df[\"Vict_Descent\"].replace(rename_dict)\n",
    "\n",
    "# Plotting the top 9 ethnicities based on the count of crimes\n",
    "plt.style.use('ggplot')  # Using ggplot style for aesthetics\n",
    "plt.figure(figsize=(10, 6))  # Setting the figure size\n",
    "\n",
    "# Selecting the top 9 ethnicities and plotting with a uniform color\n",
    "la_crime_df[\"Vict_Descent\"].value_counts().iloc[:9].plot.bar(color='blue')\n",
    "\n",
    "# Setting the title and labels for the plot\n",
    "plt.title('Victims Categorization by Ethnicity')\n",
    "plt.xlabel('Victim Ethnicity')\n",
    "plt.ylabel('Count of Crimes')\n",
    "plt.xticks(rotation=30)\n",
    "# Saving the figure to a file in a specified path\n",
    "plt.savefig(\"static/Images/crime_victim_by_ethnicity.png\")\n",
    "plt.show()  # Displaying the plot\n"
   ]
  },
  {
   "cell_type": "code",
   "execution_count": 47,
   "id": "0162e307",
   "metadata": {},
   "outputs": [
    {
     "name": "stdout",
     "output_type": "stream",
     "text": [
      "Area_Name\n",
      "Southeast      36\n",
      "Pacific        35\n",
      "77th Street    30\n",
      "Central        28\n",
      "Newton         20\n",
      "Harbor         14\n",
      "N Hollywood    14\n",
      "Southwest      13\n",
      "Northeast      12\n",
      "Van Nuys       12\n",
      "Name: count, dtype: int64\n"
     ]
    },
    {
     "data": {
      "image/png": "[encoded data removed]",
      "text/plain": [
       "<Figure size 1000x600 with 1 Axes>"
      ]
     },
     "metadata": {},
     "output_type": "display_data"
    }
   ],
   "source": [
    "\n",
    "\n",
    "# Filtering the DataFrame for vehicle theft - adapt the condition to match your dataset's specifics\n",
    "vehicle_theft_df = la_crime_df[la_crime_df[\"Crm_Cd_Desc\"].str.contains(\"VEHICLE - STOLEN\", na=False)]\n",
    "\n",
    "# Counting occurrences in each area and getting the top 10\n",
    "top_vehicle_theft_areas = vehicle_theft_df['Area_Name'].value_counts().head(10)\n",
    "\n",
    "# Display the results\n",
    "print(top_vehicle_theft_areas)\n",
    "plt.figure(figsize=(10, 6))  # Set the figure size\n",
    "plt.bar(top_vehicle_theft_areas.index, top_vehicle_theft_areas.values)  # Plot a bar chart\n",
    "plt.title('Top 10 LA Areas for Vehicle Theft')\n",
    "plt.xlabel('Area Name') \n",
    "plt.ylabel('Number of Vehicle Thefts') \n",
    "plt.xticks(rotation=45) \n",
    "plt.savefig(\"static/Images/vehicle_theft_by_area.png\")\n",
    "plt.show()  \n"
   ]
  },
  {
   "cell_type": "code",
   "execution_count": 48,
   "id": "34e75f43",
   "metadata": {},
   "outputs": [
    {
     "data": {
      "text/plain": [
       "(691276, 14)"
      ]
     },
     "execution_count": 48,
     "metadata": {},
     "output_type": "execute_result"
    }
   ],
   "source": [
    "la_crime_df.shape"
   ]
  },
  {
   "cell_type": "code",
   "execution_count": 49,
   "id": "55c5dea0",
   "metadata": {},
   "outputs": [
    {
     "name": "stdout",
     "output_type": "stream",
     "text": [
      "<class 'pandas.core.frame.DataFrame'>\n",
      "Index: 691276 entries, 1 to 925718\n",
      "Data columns (total 14 columns):\n",
      " #   Column        Non-Null Count   Dtype         \n",
      "---  ------        --------------   -----         \n",
      " 0   Date_Occ      691276 non-null  datetime64[ns]\n",
      " 1   Time_Occ      691276 non-null  object        \n",
      " 2   Area_Name     691276 non-null  object        \n",
      " 3   Rpt_Dist_No   691276 non-null  int64         \n",
      " 4   Part_1-2      691276 non-null  int64         \n",
      " 5   Crm_Cd_Desc   691276 non-null  object        \n",
      " 6   Vict_Age      691276 non-null  int64         \n",
      " 7   Vict_Sex      691276 non-null  object        \n",
      " 8   Vict_Descent  691276 non-null  object        \n",
      " 9   Status_Desc   691276 non-null  object        \n",
      " 10  Crm_Cd_1      691276 non-null  float64       \n",
      " 11  Lat           691276 non-null  float64       \n",
      " 12  Lon           691276 non-null  float64       \n",
      " 13  24Hour_Occ    691276 non-null  int32         \n",
      "dtypes: datetime64[ns](1), float64(3), int32(1), int64(3), object(6)\n",
      "memory usage: 76.5+ MB\n"
     ]
    }
   ],
   "source": [
    "la_crime_df.info()"
   ]
  },
  {
   "cell_type": "code",
   "execution_count": 50,
   "id": "557265be",
   "metadata": {},
   "outputs": [
    {
     "data": {
      "image/png": "[encoded data removed]",
      "text/plain": [
       "<Figure size 1000x500 with 1 Axes>"
      ]
     },
     "metadata": {},
     "output_type": "display_data"
    }
   ],
   "source": [
    "\n",
    "# and 'Part_1_2' column indicating if it's a Part 1 or Part 2 crime.\n",
    "\n",
    "# First, let's ensure 'Part_1_2' is a categorical variable as well\n",
    "la_crime_df['Part_1-2'] = la_crime_df['Part_1-2'].astype('category')\n",
    "\n",
    "# Now, we can count the number of crimes in each category for Part 1 and Part 2 separately\n",
    "part_1_counts = la_crime_df[la_crime_df['Part_1-2'] == 1]['24Hour_Occ'].value_counts().sort_index()\n",
    "part_2_counts = la_crime_df[la_crime_df['Part_1-2'] == 2]['24Hour_Occ'].value_counts().sort_index()\n",
    "\n",
    "# Set up the bar width\n",
    "bar_width = 0.35\n",
    "\n",
    "# Set up the index for the bars\n",
    "index = range(len(part_1_counts))\n",
    "\n",
    "# Plot the data\n",
    "plt.figure(figsize=(10, 5))\n",
    "\n",
    "# Create bars for Part 1\n",
    "plt.bar(index, part_1_counts, bar_width, label='Part 1 Crimes')\n",
    "\n",
    "# Create bars for Part 2, offset by the width of the bars\n",
    "plt.bar([i + bar_width for i in index], part_2_counts, bar_width, label='Part 2 Crimes')\n",
    "\n",
    "# Add title and labels\n",
    "plt.title('part-1 vs part-2 type crimes')\n",
    "plt.xlabel('Time Category')\n",
    "plt.ylabel('Number of Crimes')\n",
    "\n",
    "# Add xticks: we place them in the middle of the two bars using the index and bar_width\n",
    "plt.xticks([i + bar_width / 2 for i in index], part_1_counts.index)\n",
    "plt.legend()\n",
    "plt.tight_layout()\n",
    "plt.savefig(\"static/Images/part_1_part_2.png\")\n",
    "plt.show()\n",
    "\n"
   ]
  },
  {
   "cell_type": "code",
   "execution_count": 45,
   "id": "dae7feff",
   "metadata": {},
   "outputs": [],
   "source": [
    "#Pre Machine Learning \n",
    "#Visualize the data using pandas histogram for the continous variables "
   ]
  },
  {
   "cell_type": "code",
   "execution_count": null,
   "id": "ae00b980",
   "metadata": {
    "scrolled": true
   },
   "outputs": [],
   "source": []
  },
  {
   "cell_type": "code",
   "execution_count": 46,
   "id": "e1ac241b",
   "metadata": {},
   "outputs": [
    {
     "data": {
      "text/plain": [
       "<Figure size 2000x1500 with 0 Axes>"
      ]
     },
     "metadata": {},
     "output_type": "display_data"
    },
    {
     "data": {
      "image/png": "[encoded data removed]",
      "text/plain": [
       "<Figure size 2000x1500 with 25 Axes>"
      ]
     },
     "metadata": {},
     "output_type": "display_data"
    }
   ],
   "source": [
    "import matplotlib.pyplot as plt\n",
    "\n",
    "# Set the figure size before plotting\n",
    "plt.figure(figsize=(20, 15))\n",
    "\n",
    "# Assuming la_crime_df is your DataFrame and you want to plot histograms for all numerical columns\n",
    "axes = la_crime_df.hist(rwidth=0.7, grid=False, figsize=(20, 15), layout=(5, 5), # Adjust layout as needed\n",
    "                        bins=15, color='blue', edgecolor='black')\n",
    "\n",
    "# Apply tight_layout after plotting to adjust the spacing\n",
    "plt.tight_layout()\n",
    "plt.savefig(\"static/Images/general_distribution.png\")\n",
    "plt.show()\n"
   ]
  },
  {
   "cell_type": "code",
   "execution_count": null,
   "id": "f5b2b286",
   "metadata": {},
   "outputs": [],
   "source": []
  },
  {
   "cell_type": "code",
   "execution_count": 47,
   "id": "8ce4cd4f",
   "metadata": {},
   "outputs": [
    {
     "data": {
      "text/html": [
       "<div>\n",
       "<style scoped>\n",
       "    .dataframe tbody tr th:only-of-type {\n",
       "        vertical-align: middle;\n",
       "    }\n",
       "\n",
       "    .dataframe tbody tr th {\n",
       "        vertical-align: top;\n",
       "    }\n",
       "\n",
       "    .dataframe thead th {\n",
       "        text-align: right;\n",
       "    }\n",
       "</style>\n",
       "<table border=\"1\" class=\"dataframe\">\n",
       "  <thead>\n",
       "    <tr style=\"text-align: right;\">\n",
       "      <th></th>\n",
       "      <th>Date_Occ</th>\n",
       "      <th>Time_Occ</th>\n",
       "      <th>Area_Name</th>\n",
       "      <th>Rpt_Dist_No</th>\n",
       "      <th>Part_1-2</th>\n",
       "      <th>Crm_Cd_Desc</th>\n",
       "      <th>Vict_Age</th>\n",
       "      <th>Vict_Sex</th>\n",
       "      <th>Vict_Descent</th>\n",
       "      <th>Status_Desc</th>\n",
       "      <th>Crm_Cd_1</th>\n",
       "      <th>Lat</th>\n",
       "      <th>Lon</th>\n",
       "      <th>24Hour_Occ</th>\n",
       "    </tr>\n",
       "  </thead>\n",
       "  <tbody>\n",
       "    <tr>\n",
       "      <th>1</th>\n",
       "      <td>2020-02-08</td>\n",
       "      <td>1800</td>\n",
       "      <td>Central</td>\n",
       "      <td>182</td>\n",
       "      <td>1</td>\n",
       "      <td>BURGLARY FROM VEHICLE</td>\n",
       "      <td>47</td>\n",
       "      <td>M</td>\n",
       "      <td>Other</td>\n",
       "      <td>Invest Cont</td>\n",
       "      <td>330.0</td>\n",
       "      <td>34.0444</td>\n",
       "      <td>-118.2628</td>\n",
       "      <td>18</td>\n",
       "    </tr>\n",
       "    <tr>\n",
       "      <th>2</th>\n",
       "      <td>2020-11-04</td>\n",
       "      <td>1700</td>\n",
       "      <td>Southwest</td>\n",
       "      <td>356</td>\n",
       "      <td>1</td>\n",
       "      <td>BIKE - STOLEN</td>\n",
       "      <td>19</td>\n",
       "      <td>X</td>\n",
       "      <td>Unknown</td>\n",
       "      <td>Invest Cont</td>\n",
       "      <td>480.0</td>\n",
       "      <td>34.0210</td>\n",
       "      <td>-118.3002</td>\n",
       "      <td>17</td>\n",
       "    </tr>\n",
       "  </tbody>\n",
       "</table>\n",
       "</div>"
      ],
      "text/plain": [
       "    Date_Occ Time_Occ  Area_Name  Rpt_Dist_No Part_1-2            Crm_Cd_Desc  \\\n",
       "1 2020-02-08     1800    Central          182        1  BURGLARY FROM VEHICLE   \n",
       "2 2020-11-04     1700  Southwest          356        1          BIKE - STOLEN   \n",
       "\n",
       "   Vict_Age Vict_Sex Vict_Descent  Status_Desc  Crm_Cd_1      Lat       Lon  \\\n",
       "1        47        M        Other  Invest Cont     330.0  34.0444 -118.2628   \n",
       "2        19        X      Unknown  Invest Cont     480.0  34.0210 -118.3002   \n",
       "\n",
       "   24Hour_Occ  \n",
       "1          18  \n",
       "2          17  "
      ]
     },
     "execution_count": 47,
     "metadata": {},
     "output_type": "execute_result"
    }
   ],
   "source": [
    "la_crime_df.head(2)"
   ]
  },
  {
   "cell_type": "code",
   "execution_count": null,
   "id": "274aa031",
   "metadata": {},
   "outputs": [],
   "source": []
  },
  {
   "cell_type": "code",
   "execution_count": 48,
   "id": "9b365d06",
   "metadata": {},
   "outputs": [],
   "source": [
    "#selecting few variables for machine learning\n",
    "la_crime_df = la_crime_df[[\"Vict_Sex\",\"Vict_Age\",\"Lat\",\"Lon\",\"Rpt_Dist_No\",\"Vict_Descent\",\"Area_Name\",\"24Hour_Occ\",\"Crm_Cd_Desc\",\"Part_1-2\"]]"
   ]
  },
  {
   "cell_type": "code",
   "execution_count": 49,
   "id": "3bf393bf",
   "metadata": {},
   "outputs": [
    {
     "data": {
      "text/html": [
       "<div>\n",
       "<style scoped>\n",
       "    .dataframe tbody tr th:only-of-type {\n",
       "        vertical-align: middle;\n",
       "    }\n",
       "\n",
       "    .dataframe tbody tr th {\n",
       "        vertical-align: top;\n",
       "    }\n",
       "\n",
       "    .dataframe thead th {\n",
       "        text-align: right;\n",
       "    }\n",
       "</style>\n",
       "<table border=\"1\" class=\"dataframe\">\n",
       "  <thead>\n",
       "    <tr style=\"text-align: right;\">\n",
       "      <th></th>\n",
       "      <th>Vict_Sex</th>\n",
       "      <th>Vict_Age</th>\n",
       "      <th>Lat</th>\n",
       "      <th>Lon</th>\n",
       "      <th>Rpt_Dist_No</th>\n",
       "      <th>Vict_Descent</th>\n",
       "      <th>Area_Name</th>\n",
       "      <th>24Hour_Occ</th>\n",
       "      <th>Crm_Cd_Desc</th>\n",
       "      <th>Part_1-2</th>\n",
       "    </tr>\n",
       "  </thead>\n",
       "  <tbody>\n",
       "    <tr>\n",
       "      <th>1</th>\n",
       "      <td>M</td>\n",
       "      <td>47</td>\n",
       "      <td>34.0444</td>\n",
       "      <td>-118.2628</td>\n",
       "      <td>182</td>\n",
       "      <td>Other</td>\n",
       "      <td>Central</td>\n",
       "      <td>18</td>\n",
       "      <td>BURGLARY FROM VEHICLE</td>\n",
       "      <td>1</td>\n",
       "    </tr>\n",
       "    <tr>\n",
       "      <th>2</th>\n",
       "      <td>X</td>\n",
       "      <td>19</td>\n",
       "      <td>34.0210</td>\n",
       "      <td>-118.3002</td>\n",
       "      <td>356</td>\n",
       "      <td>Unknown</td>\n",
       "      <td>Southwest</td>\n",
       "      <td>17</td>\n",
       "      <td>BIKE - STOLEN</td>\n",
       "      <td>1</td>\n",
       "    </tr>\n",
       "    <tr>\n",
       "      <th>3</th>\n",
       "      <td>M</td>\n",
       "      <td>19</td>\n",
       "      <td>34.1576</td>\n",
       "      <td>-118.4387</td>\n",
       "      <td>964</td>\n",
       "      <td>Other</td>\n",
       "      <td>Van Nuys</td>\n",
       "      <td>20</td>\n",
       "      <td>SHOPLIFTING-GRAND THEFT ($950.01 &amp; OVER)</td>\n",
       "      <td>1</td>\n",
       "    </tr>\n",
       "    <tr>\n",
       "      <th>4</th>\n",
       "      <td>M</td>\n",
       "      <td>28</td>\n",
       "      <td>34.0944</td>\n",
       "      <td>-118.3277</td>\n",
       "      <td>666</td>\n",
       "      <td>Hispanic/Latin/Mexican</td>\n",
       "      <td>Hollywood</td>\n",
       "      <td>12</td>\n",
       "      <td>THEFT OF IDENTITY</td>\n",
       "      <td>2</td>\n",
       "    </tr>\n",
       "    <tr>\n",
       "      <th>5</th>\n",
       "      <td>M</td>\n",
       "      <td>41</td>\n",
       "      <td>33.9467</td>\n",
       "      <td>-118.2463</td>\n",
       "      <td>1826</td>\n",
       "      <td>Hispanic/Latin/Mexican</td>\n",
       "      <td>Southeast</td>\n",
       "      <td>23</td>\n",
       "      <td>THEFT OF IDENTITY</td>\n",
       "      <td>2</td>\n",
       "    </tr>\n",
       "  </tbody>\n",
       "</table>\n",
       "</div>"
      ],
      "text/plain": [
       "  Vict_Sex  Vict_Age      Lat       Lon  Rpt_Dist_No            Vict_Descent  \\\n",
       "1        M        47  34.0444 -118.2628          182                   Other   \n",
       "2        X        19  34.0210 -118.3002          356                 Unknown   \n",
       "3        M        19  34.1576 -118.4387          964                   Other   \n",
       "4        M        28  34.0944 -118.3277          666  Hispanic/Latin/Mexican   \n",
       "5        M        41  33.9467 -118.2463         1826  Hispanic/Latin/Mexican   \n",
       "\n",
       "   Area_Name  24Hour_Occ                               Crm_Cd_Desc Part_1-2  \n",
       "1    Central          18                     BURGLARY FROM VEHICLE        1  \n",
       "2  Southwest          17                             BIKE - STOLEN        1  \n",
       "3   Van Nuys          20  SHOPLIFTING-GRAND THEFT ($950.01 & OVER)        1  \n",
       "4  Hollywood          12                         THEFT OF IDENTITY        2  \n",
       "5  Southeast          23                         THEFT OF IDENTITY        2  "
      ]
     },
     "execution_count": 49,
     "metadata": {},
     "output_type": "execute_result"
    }
   ],
   "source": [
    "la_crime_df.head()"
   ]
  },
  {
   "cell_type": "code",
   "execution_count": 50,
   "id": "bb4efacc",
   "metadata": {
    "scrolled": true
   },
   "outputs": [
    {
     "data": {
      "text/plain": [
       "Vict_Sex\n",
       "M    348234\n",
       "F    334231\n",
       "X      8811\n",
       "Name: count, dtype: int64"
      ]
     },
     "execution_count": 50,
     "metadata": {},
     "output_type": "execute_result"
    }
   ],
   "source": [
    "la_crime_df[\"Vict_Sex\"].value_counts()"
   ]
  },
  {
   "cell_type": "code",
   "execution_count": 51,
   "id": "cb3bc954",
   "metadata": {},
   "outputs": [
    {
     "data": {
      "text/plain": [
       "Vict_Descent\n",
       "Hispanic/Latin/Mexican            276655\n",
       "White                             173400\n",
       "Black                             128204\n",
       "Other                              60991\n",
       "Other Asian                        19980\n",
       "Unknown                            15065\n",
       "Korean                              5059\n",
       "Filipino                            3938\n",
       "Chinese                             3706\n",
       "Japanese                            1304\n",
       "Vietnamese                           981\n",
       "American Indian/Alaskan Native       881\n",
       "Asian Indian                         458\n",
       "P                                    249\n",
       "Hawaiian                             156\n",
       "Cambodian                             75\n",
       "Guamanian                             67\n",
       "Laotian                               62\n",
       "Samoan                                45\n",
       "Name: count, dtype: int64"
      ]
     },
     "execution_count": 51,
     "metadata": {},
     "output_type": "execute_result"
    }
   ],
   "source": [
    "la_crime_df[\"Vict_Descent\"].value_counts()"
   ]
  },
  {
   "cell_type": "code",
   "execution_count": 52,
   "id": "c1a092b6",
   "metadata": {},
   "outputs": [
    {
     "data": {
      "text/plain": [
       "Area_Name\n",
       "Central        48784\n",
       "77th Street    43957\n",
       "Southwest      43942\n",
       "Pacific        38818\n",
       "Hollywood      36911\n",
       "Southeast      35001\n",
       "Olympic        34395\n",
       "N Hollywood    33538\n",
       "Wilshire       33532\n",
       "Topanga        32063\n",
       "Newton         31979\n",
       "Rampart        31494\n",
       "West LA        31439\n",
       "Van Nuys       31115\n",
       "West Valley    29015\n",
       "Mission        28132\n",
       "Northeast      27657\n",
       "Devonshire     27176\n",
       "Harbor         26191\n",
       "Foothill       23117\n",
       "Hollenbeck     23020\n",
       "Name: count, dtype: int64"
      ]
     },
     "execution_count": 52,
     "metadata": {},
     "output_type": "execute_result"
    }
   ],
   "source": [
    "la_crime_df[\"Area_Name\"].value_counts()"
   ]
  },
  {
   "cell_type": "code",
   "execution_count": 53,
   "id": "2a6eb520",
   "metadata": {},
   "outputs": [
    {
     "data": {
      "text/plain": [
       "24Hour_Occ\n",
       "12    49523\n",
       "18    38878\n",
       "17    38558\n",
       "20    37271\n",
       "19    36270\n",
       "15    36250\n",
       "16    35901\n",
       "14    34251\n",
       "21    33925\n",
       "22    32636\n",
       "13    32585\n",
       "11    31916\n",
       "10    31153\n",
       "0     29979\n",
       "23    28684\n",
       "8     26244\n",
       "9     26049\n",
       "1     21382\n",
       "7     18022\n",
       "2     17432\n",
       "6     15875\n",
       "3     14874\n",
       "4     12266\n",
       "5     11352\n",
       "Name: count, dtype: int64"
      ]
     },
     "execution_count": 53,
     "metadata": {},
     "output_type": "execute_result"
    }
   ],
   "source": [
    "la_crime_df[\"24Hour_Occ\"].value_counts()"
   ]
  },
  {
   "cell_type": "code",
   "execution_count": 54,
   "id": "888dc363",
   "metadata": {
    "scrolled": true
   },
   "outputs": [
    {
     "name": "stdout",
     "output_type": "stream",
     "text": [
      "<class 'pandas.core.frame.DataFrame'>\n",
      "Index: 691276 entries, 1 to 925718\n",
      "Data columns (total 10 columns):\n",
      " #   Column        Non-Null Count   Dtype   \n",
      "---  ------        --------------   -----   \n",
      " 0   Vict_Sex      691276 non-null  object  \n",
      " 1   Vict_Age      691276 non-null  int64   \n",
      " 2   Lat           691276 non-null  float64 \n",
      " 3   Lon           691276 non-null  float64 \n",
      " 4   Rpt_Dist_No   691276 non-null  int64   \n",
      " 5   Vict_Descent  691276 non-null  object  \n",
      " 6   Area_Name     691276 non-null  object  \n",
      " 7   24Hour_Occ    691276 non-null  int32   \n",
      " 8   Crm_Cd_Desc   691276 non-null  object  \n",
      " 9   Part_1-2      691276 non-null  category\n",
      "dtypes: category(1), float64(2), int32(1), int64(2), object(4)\n",
      "memory usage: 50.8+ MB\n"
     ]
    }
   ],
   "source": [
    "la_crime_df.info()"
   ]
  },
  {
   "cell_type": "code",
   "execution_count": 55,
   "id": "821f784d",
   "metadata": {},
   "outputs": [],
   "source": [
    "#change the object dtypes into categorical\n",
    "la_crime_df[\"Vict_Sex\"] = la_crime_df[\"Vict_Sex\"].astype(\"category\")\n",
    "la_crime_df[\"Area_Name\"] = la_crime_df[\"Area_Name\"].astype(\"category\")\n",
    "la_crime_df[\"Vict_Descent\"]=la_crime_df[\"Vict_Descent\"].astype(\"category\")\n",
    "la_crime_df[\"24Hour_Occ\"]=la_crime_df[\"24Hour_Occ\"].astype(\"category\")\n",
    "la_crime_df[\"Part_1-2\"]=la_crime_df[\"Part_1-2\"].astype(\"category\")\n",
    "la_crime_df[\"Crm_Cd_Desc\"]=la_crime_df[\"Crm_Cd_Desc\"].astype(\"category\")"
   ]
  },
  {
   "cell_type": "code",
   "execution_count": 56,
   "id": "98431188",
   "metadata": {},
   "outputs": [
    {
     "name": "stdout",
     "output_type": "stream",
     "text": [
      "<class 'pandas.core.frame.DataFrame'>\n",
      "Index: 691276 entries, 1 to 925718\n",
      "Data columns (total 10 columns):\n",
      " #   Column        Non-Null Count   Dtype   \n",
      "---  ------        --------------   -----   \n",
      " 0   Vict_Sex      691276 non-null  category\n",
      " 1   Vict_Age      691276 non-null  int64   \n",
      " 2   Lat           691276 non-null  float64 \n",
      " 3   Lon           691276 non-null  float64 \n",
      " 4   Rpt_Dist_No   691276 non-null  int64   \n",
      " 5   Vict_Descent  691276 non-null  category\n",
      " 6   Area_Name     691276 non-null  category\n",
      " 7   24Hour_Occ    691276 non-null  category\n",
      " 8   Crm_Cd_Desc   691276 non-null  category\n",
      " 9   Part_1-2      691276 non-null  category\n",
      "dtypes: category(6), float64(2), int64(2)\n",
      "memory usage: 31.0 MB\n"
     ]
    }
   ],
   "source": [
    "la_crime_df.info()"
   ]
  },
  {
   "cell_type": "code",
   "execution_count": 57,
   "id": "bd9ed5e8",
   "metadata": {},
   "outputs": [],
   "source": [
    "#Target/dependent Variable Crm_Cd_Desc\n",
    "#independent variables Vict_Sex, Vict_Age, Lat, Lon,Area_Name,24Hour_Occ"
   ]
  },
  {
   "cell_type": "code",
   "execution_count": 58,
   "id": "0b0082b0",
   "metadata": {},
   "outputs": [
    {
     "data": {
      "text/plain": [
       "Vict_Sex        category\n",
       "Vict_Age           int64\n",
       "Lat              float64\n",
       "Lon              float64\n",
       "Rpt_Dist_No        int64\n",
       "Vict_Descent    category\n",
       "Area_Name       category\n",
       "24Hour_Occ      category\n",
       "Crm_Cd_Desc     category\n",
       "Part_1-2        category\n",
       "dtype: object"
      ]
     },
     "execution_count": 58,
     "metadata": {},
     "output_type": "execute_result"
    }
   ],
   "source": [
    "la_crime_df.dtypes"
   ]
  },
  {
   "cell_type": "code",
   "execution_count": 59,
   "id": "aac6fd6f",
   "metadata": {},
   "outputs": [
    {
     "data": {
      "text/html": [
       "<div>\n",
       "<style scoped>\n",
       "    .dataframe tbody tr th:only-of-type {\n",
       "        vertical-align: middle;\n",
       "    }\n",
       "\n",
       "    .dataframe tbody tr th {\n",
       "        vertical-align: top;\n",
       "    }\n",
       "\n",
       "    .dataframe thead th {\n",
       "        text-align: right;\n",
       "    }\n",
       "</style>\n",
       "<table border=\"1\" class=\"dataframe\">\n",
       "  <thead>\n",
       "    <tr style=\"text-align: right;\">\n",
       "      <th></th>\n",
       "      <th>Vict_Age</th>\n",
       "      <th>Lat</th>\n",
       "      <th>Lon</th>\n",
       "      <th>Rpt_Dist_No</th>\n",
       "      <th>Part_1-2</th>\n",
       "      <th>Vict_Sex_F</th>\n",
       "      <th>Vict_Sex_M</th>\n",
       "      <th>Vict_Sex_X</th>\n",
       "      <th>Area_Name_77th Street</th>\n",
       "      <th>Area_Name_Central</th>\n",
       "      <th>...</th>\n",
       "      <th>Crm_Cd_Desc_UNAUTHORIZED COMPUTER ACCESS</th>\n",
       "      <th>Crm_Cd_Desc_VANDALISM - FELONY ($400 &amp; OVER, ALL CHURCH VANDALISMS)</th>\n",
       "      <th>Crm_Cd_Desc_VANDALISM - MISDEAMEANOR ($399 OR UNDER)</th>\n",
       "      <th>Crm_Cd_Desc_VEHICLE - ATTEMPT STOLEN</th>\n",
       "      <th>Crm_Cd_Desc_VEHICLE - STOLEN</th>\n",
       "      <th>Crm_Cd_Desc_VEHICLE, STOLEN - OTHER (MOTORIZED SCOOTERS, BIKES, ETC)</th>\n",
       "      <th>Crm_Cd_Desc_VIOLATION OF COURT ORDER</th>\n",
       "      <th>Crm_Cd_Desc_VIOLATION OF RESTRAINING ORDER</th>\n",
       "      <th>Crm_Cd_Desc_VIOLATION OF TEMPORARY RESTRAINING ORDER</th>\n",
       "      <th>Crm_Cd_Desc_WEAPONS POSSESSION/BOMBING</th>\n",
       "    </tr>\n",
       "  </thead>\n",
       "  <tbody>\n",
       "    <tr>\n",
       "      <th>1</th>\n",
       "      <td>47</td>\n",
       "      <td>34.0444</td>\n",
       "      <td>-118.2628</td>\n",
       "      <td>182</td>\n",
       "      <td>1</td>\n",
       "      <td>0</td>\n",
       "      <td>1</td>\n",
       "      <td>0</td>\n",
       "      <td>0</td>\n",
       "      <td>1</td>\n",
       "      <td>...</td>\n",
       "      <td>0</td>\n",
       "      <td>0</td>\n",
       "      <td>0</td>\n",
       "      <td>0</td>\n",
       "      <td>0</td>\n",
       "      <td>0</td>\n",
       "      <td>0</td>\n",
       "      <td>0</td>\n",
       "      <td>0</td>\n",
       "      <td>0</td>\n",
       "    </tr>\n",
       "    <tr>\n",
       "      <th>2</th>\n",
       "      <td>19</td>\n",
       "      <td>34.0210</td>\n",
       "      <td>-118.3002</td>\n",
       "      <td>356</td>\n",
       "      <td>1</td>\n",
       "      <td>0</td>\n",
       "      <td>0</td>\n",
       "      <td>1</td>\n",
       "      <td>0</td>\n",
       "      <td>0</td>\n",
       "      <td>...</td>\n",
       "      <td>0</td>\n",
       "      <td>0</td>\n",
       "      <td>0</td>\n",
       "      <td>0</td>\n",
       "      <td>0</td>\n",
       "      <td>0</td>\n",
       "      <td>0</td>\n",
       "      <td>0</td>\n",
       "      <td>0</td>\n",
       "      <td>0</td>\n",
       "    </tr>\n",
       "  </tbody>\n",
       "</table>\n",
       "<p>2 rows × 209 columns</p>\n",
       "</div>"
      ],
      "text/plain": [
       "   Vict_Age      Lat       Lon  Rpt_Dist_No Part_1-2  Vict_Sex_F  Vict_Sex_M  \\\n",
       "1        47  34.0444 -118.2628          182        1           0           1   \n",
       "2        19  34.0210 -118.3002          356        1           0           0   \n",
       "\n",
       "   Vict_Sex_X  Area_Name_77th Street  Area_Name_Central  ...  \\\n",
       "1           0                      0                  1  ...   \n",
       "2           1                      0                  0  ...   \n",
       "\n",
       "   Crm_Cd_Desc_UNAUTHORIZED COMPUTER ACCESS  \\\n",
       "1                                         0   \n",
       "2                                         0   \n",
       "\n",
       "   Crm_Cd_Desc_VANDALISM - FELONY ($400 & OVER, ALL CHURCH VANDALISMS)  \\\n",
       "1                                                  0                     \n",
       "2                                                  0                     \n",
       "\n",
       "   Crm_Cd_Desc_VANDALISM - MISDEAMEANOR ($399 OR UNDER)  \\\n",
       "1                                                  0      \n",
       "2                                                  0      \n",
       "\n",
       "   Crm_Cd_Desc_VEHICLE - ATTEMPT STOLEN  Crm_Cd_Desc_VEHICLE - STOLEN  \\\n",
       "1                                     0                             0   \n",
       "2                                     0                             0   \n",
       "\n",
       "   Crm_Cd_Desc_VEHICLE, STOLEN - OTHER (MOTORIZED SCOOTERS, BIKES, ETC)  \\\n",
       "1                                                  0                      \n",
       "2                                                  0                      \n",
       "\n",
       "   Crm_Cd_Desc_VIOLATION OF COURT ORDER  \\\n",
       "1                                     0   \n",
       "2                                     0   \n",
       "\n",
       "   Crm_Cd_Desc_VIOLATION OF RESTRAINING ORDER  \\\n",
       "1                                           0   \n",
       "2                                           0   \n",
       "\n",
       "   Crm_Cd_Desc_VIOLATION OF TEMPORARY RESTRAINING ORDER  \\\n",
       "1                                                  0      \n",
       "2                                                  0      \n",
       "\n",
       "   Crm_Cd_Desc_WEAPONS POSSESSION/BOMBING  \n",
       "1                                       0  \n",
       "2                                       0  \n",
       "\n",
       "[2 rows x 209 columns]"
      ]
     },
     "execution_count": 59,
     "metadata": {},
     "output_type": "execute_result"
    }
   ],
   "source": [
    "\n",
    "# Convert 'Vict_Sex' and 'Area_Name' to dummy variables\n",
    "dummies = pd.get_dummies(la_crime_df[['Vict_Sex', 'Area_Name',\"Vict_Descent\",\"24Hour_Occ\",\"Crm_Cd_Desc\"]])\n",
    "dummies =dummies.astype(int)\n",
    "\n",
    "# Concatenate the dummy DataFrame with the original DataFrame (optional)\n",
    "# This step assumes you want to keep the rest of your data alongside the new dummy variables\n",
    "la_crime_df = pd.concat([la_crime_df, dummies], axis=1)\n",
    "\n",
    "# Optionally, you might want to drop the original columns if they are no longer needed\n",
    "la_crime_df.drop(['Vict_Sex', 'Area_Name',\"Vict_Descent\",\"24Hour_Occ\",\"Crm_Cd_Desc\"], axis=1, inplace=True)\n",
    "\n",
    "# Display the DataFrame to verify changes\n",
    "la_crime_df.head(2)\n"
   ]
  },
  {
   "cell_type": "code",
   "execution_count": 60,
   "id": "dd75b4e2",
   "metadata": {},
   "outputs": [
    {
     "data": {
      "text/plain": [
       "(234640, 209)"
      ]
     },
     "execution_count": 60,
     "metadata": {},
     "output_type": "execute_result"
    }
   ],
   "source": [
    "###############################################consider only data for 2023 as the machine have a hard time\n",
    "#########################################3\n",
    "la_crime_df_2023 = la_crime_df.iloc[:234640]\n",
    "la_crime_df_2023.shape"
   ]
  },
  {
   "cell_type": "code",
   "execution_count": null,
   "id": "841a9768",
   "metadata": {},
   "outputs": [],
   "source": []
  },
  {
   "cell_type": "code",
   "execution_count": 61,
   "id": "8b20d7a6",
   "metadata": {},
   "outputs": [],
   "source": [
    "#######################################\n",
    "######################################"
   ]
  },
  {
   "cell_type": "code",
   "execution_count": 62,
   "id": "41b53971",
   "metadata": {},
   "outputs": [],
   "source": [
    "\n",
    "#creating x and y variables\n",
    "x=la_crime_df_2023.drop(\"Part_1-2\", axis = 1)\n",
    "y=la_crime_df_2023[\"Part_1-2\"]"
   ]
  },
  {
   "cell_type": "code",
   "execution_count": null,
   "id": "f2339af2",
   "metadata": {},
   "outputs": [],
   "source": []
  },
  {
   "cell_type": "code",
   "execution_count": 63,
   "id": "347fa886",
   "metadata": {},
   "outputs": [
    {
     "data": {
      "text/plain": [
       "(234640, 208)"
      ]
     },
     "execution_count": 63,
     "metadata": {},
     "output_type": "execute_result"
    }
   ],
   "source": [
    "x.shape # its a dataframe"
   ]
  },
  {
   "cell_type": "code",
   "execution_count": 64,
   "id": "e77321b0",
   "metadata": {},
   "outputs": [
    {
     "data": {
      "text/plain": [
       "(234640,)"
      ]
     },
     "execution_count": 64,
     "metadata": {},
     "output_type": "execute_result"
    }
   ],
   "source": [
    "y.shape # series "
   ]
  },
  {
   "cell_type": "code",
   "execution_count": 65,
   "id": "2812b321",
   "metadata": {},
   "outputs": [
    {
     "data": {
      "text/plain": [
       "1         1\n",
       "2         1\n",
       "3         1\n",
       "4         2\n",
       "5         2\n",
       "         ..\n",
       "309424    2\n",
       "309427    2\n",
       "309428    1\n",
       "309429    2\n",
       "309430    1\n",
       "Name: Part_1-2, Length: 234640, dtype: category\n",
       "Categories (2, int64): [1, 2]"
      ]
     },
     "execution_count": 65,
     "metadata": {},
     "output_type": "execute_result"
    }
   ],
   "source": [
    "y"
   ]
  },
  {
   "cell_type": "code",
   "execution_count": 66,
   "id": "a3683c95",
   "metadata": {
    "scrolled": true
   },
   "outputs": [
    {
     "data": {
      "text/html": [
       "<div>\n",
       "<style scoped>\n",
       "    .dataframe tbody tr th:only-of-type {\n",
       "        vertical-align: middle;\n",
       "    }\n",
       "\n",
       "    .dataframe tbody tr th {\n",
       "        vertical-align: top;\n",
       "    }\n",
       "\n",
       "    .dataframe thead th {\n",
       "        text-align: right;\n",
       "    }\n",
       "</style>\n",
       "<table border=\"1\" class=\"dataframe\">\n",
       "  <thead>\n",
       "    <tr style=\"text-align: right;\">\n",
       "      <th></th>\n",
       "      <th>Vict_Age</th>\n",
       "      <th>Lat</th>\n",
       "      <th>Lon</th>\n",
       "      <th>Rpt_Dist_No</th>\n",
       "      <th>Vict_Sex_F</th>\n",
       "      <th>Vict_Sex_M</th>\n",
       "      <th>Vict_Sex_X</th>\n",
       "      <th>Area_Name_77th Street</th>\n",
       "      <th>Area_Name_Central</th>\n",
       "      <th>Area_Name_Devonshire</th>\n",
       "      <th>...</th>\n",
       "      <th>Crm_Cd_Desc_UNAUTHORIZED COMPUTER ACCESS</th>\n",
       "      <th>Crm_Cd_Desc_VANDALISM - FELONY ($400 &amp; OVER, ALL CHURCH VANDALISMS)</th>\n",
       "      <th>Crm_Cd_Desc_VANDALISM - MISDEAMEANOR ($399 OR UNDER)</th>\n",
       "      <th>Crm_Cd_Desc_VEHICLE - ATTEMPT STOLEN</th>\n",
       "      <th>Crm_Cd_Desc_VEHICLE - STOLEN</th>\n",
       "      <th>Crm_Cd_Desc_VEHICLE, STOLEN - OTHER (MOTORIZED SCOOTERS, BIKES, ETC)</th>\n",
       "      <th>Crm_Cd_Desc_VIOLATION OF COURT ORDER</th>\n",
       "      <th>Crm_Cd_Desc_VIOLATION OF RESTRAINING ORDER</th>\n",
       "      <th>Crm_Cd_Desc_VIOLATION OF TEMPORARY RESTRAINING ORDER</th>\n",
       "      <th>Crm_Cd_Desc_WEAPONS POSSESSION/BOMBING</th>\n",
       "    </tr>\n",
       "  </thead>\n",
       "  <tbody>\n",
       "    <tr>\n",
       "      <th>1</th>\n",
       "      <td>47</td>\n",
       "      <td>34.0444</td>\n",
       "      <td>-118.2628</td>\n",
       "      <td>182</td>\n",
       "      <td>0</td>\n",
       "      <td>1</td>\n",
       "      <td>0</td>\n",
       "      <td>0</td>\n",
       "      <td>1</td>\n",
       "      <td>0</td>\n",
       "      <td>...</td>\n",
       "      <td>0</td>\n",
       "      <td>0</td>\n",
       "      <td>0</td>\n",
       "      <td>0</td>\n",
       "      <td>0</td>\n",
       "      <td>0</td>\n",
       "      <td>0</td>\n",
       "      <td>0</td>\n",
       "      <td>0</td>\n",
       "      <td>0</td>\n",
       "    </tr>\n",
       "    <tr>\n",
       "      <th>2</th>\n",
       "      <td>19</td>\n",
       "      <td>34.0210</td>\n",
       "      <td>-118.3002</td>\n",
       "      <td>356</td>\n",
       "      <td>0</td>\n",
       "      <td>0</td>\n",
       "      <td>1</td>\n",
       "      <td>0</td>\n",
       "      <td>0</td>\n",
       "      <td>0</td>\n",
       "      <td>...</td>\n",
       "      <td>0</td>\n",
       "      <td>0</td>\n",
       "      <td>0</td>\n",
       "      <td>0</td>\n",
       "      <td>0</td>\n",
       "      <td>0</td>\n",
       "      <td>0</td>\n",
       "      <td>0</td>\n",
       "      <td>0</td>\n",
       "      <td>0</td>\n",
       "    </tr>\n",
       "    <tr>\n",
       "      <th>3</th>\n",
       "      <td>19</td>\n",
       "      <td>34.1576</td>\n",
       "      <td>-118.4387</td>\n",
       "      <td>964</td>\n",
       "      <td>0</td>\n",
       "      <td>1</td>\n",
       "      <td>0</td>\n",
       "      <td>0</td>\n",
       "      <td>0</td>\n",
       "      <td>0</td>\n",
       "      <td>...</td>\n",
       "      <td>0</td>\n",
       "      <td>0</td>\n",
       "      <td>0</td>\n",
       "      <td>0</td>\n",
       "      <td>0</td>\n",
       "      <td>0</td>\n",
       "      <td>0</td>\n",
       "      <td>0</td>\n",
       "      <td>0</td>\n",
       "      <td>0</td>\n",
       "    </tr>\n",
       "    <tr>\n",
       "      <th>4</th>\n",
       "      <td>28</td>\n",
       "      <td>34.0944</td>\n",
       "      <td>-118.3277</td>\n",
       "      <td>666</td>\n",
       "      <td>0</td>\n",
       "      <td>1</td>\n",
       "      <td>0</td>\n",
       "      <td>0</td>\n",
       "      <td>0</td>\n",
       "      <td>0</td>\n",
       "      <td>...</td>\n",
       "      <td>0</td>\n",
       "      <td>0</td>\n",
       "      <td>0</td>\n",
       "      <td>0</td>\n",
       "      <td>0</td>\n",
       "      <td>0</td>\n",
       "      <td>0</td>\n",
       "      <td>0</td>\n",
       "      <td>0</td>\n",
       "      <td>0</td>\n",
       "    </tr>\n",
       "    <tr>\n",
       "      <th>5</th>\n",
       "      <td>41</td>\n",
       "      <td>33.9467</td>\n",
       "      <td>-118.2463</td>\n",
       "      <td>1826</td>\n",
       "      <td>0</td>\n",
       "      <td>1</td>\n",
       "      <td>0</td>\n",
       "      <td>0</td>\n",
       "      <td>0</td>\n",
       "      <td>0</td>\n",
       "      <td>...</td>\n",
       "      <td>0</td>\n",
       "      <td>0</td>\n",
       "      <td>0</td>\n",
       "      <td>0</td>\n",
       "      <td>0</td>\n",
       "      <td>0</td>\n",
       "      <td>0</td>\n",
       "      <td>0</td>\n",
       "      <td>0</td>\n",
       "      <td>0</td>\n",
       "    </tr>\n",
       "    <tr>\n",
       "      <th>...</th>\n",
       "      <td>...</td>\n",
       "      <td>...</td>\n",
       "      <td>...</td>\n",
       "      <td>...</td>\n",
       "      <td>...</td>\n",
       "      <td>...</td>\n",
       "      <td>...</td>\n",
       "      <td>...</td>\n",
       "      <td>...</td>\n",
       "      <td>...</td>\n",
       "      <td>...</td>\n",
       "      <td>...</td>\n",
       "      <td>...</td>\n",
       "      <td>...</td>\n",
       "      <td>...</td>\n",
       "      <td>...</td>\n",
       "      <td>...</td>\n",
       "      <td>...</td>\n",
       "      <td>...</td>\n",
       "      <td>...</td>\n",
       "      <td>...</td>\n",
       "    </tr>\n",
       "    <tr>\n",
       "      <th>309424</th>\n",
       "      <td>57</td>\n",
       "      <td>33.9623</td>\n",
       "      <td>-118.2783</td>\n",
       "      <td>1267</td>\n",
       "      <td>0</td>\n",
       "      <td>1</td>\n",
       "      <td>0</td>\n",
       "      <td>1</td>\n",
       "      <td>0</td>\n",
       "      <td>0</td>\n",
       "      <td>...</td>\n",
       "      <td>0</td>\n",
       "      <td>1</td>\n",
       "      <td>0</td>\n",
       "      <td>0</td>\n",
       "      <td>0</td>\n",
       "      <td>0</td>\n",
       "      <td>0</td>\n",
       "      <td>0</td>\n",
       "      <td>0</td>\n",
       "      <td>0</td>\n",
       "    </tr>\n",
       "    <tr>\n",
       "      <th>309427</th>\n",
       "      <td>31</td>\n",
       "      <td>34.0170</td>\n",
       "      <td>-118.3477</td>\n",
       "      <td>362</td>\n",
       "      <td>0</td>\n",
       "      <td>1</td>\n",
       "      <td>0</td>\n",
       "      <td>0</td>\n",
       "      <td>0</td>\n",
       "      <td>0</td>\n",
       "      <td>...</td>\n",
       "      <td>0</td>\n",
       "      <td>1</td>\n",
       "      <td>0</td>\n",
       "      <td>0</td>\n",
       "      <td>0</td>\n",
       "      <td>0</td>\n",
       "      <td>0</td>\n",
       "      <td>0</td>\n",
       "      <td>0</td>\n",
       "      <td>0</td>\n",
       "    </tr>\n",
       "    <tr>\n",
       "      <th>309428</th>\n",
       "      <td>30</td>\n",
       "      <td>34.1739</td>\n",
       "      <td>-118.4400</td>\n",
       "      <td>946</td>\n",
       "      <td>1</td>\n",
       "      <td>0</td>\n",
       "      <td>0</td>\n",
       "      <td>0</td>\n",
       "      <td>0</td>\n",
       "      <td>0</td>\n",
       "      <td>...</td>\n",
       "      <td>0</td>\n",
       "      <td>0</td>\n",
       "      <td>0</td>\n",
       "      <td>0</td>\n",
       "      <td>0</td>\n",
       "      <td>0</td>\n",
       "      <td>0</td>\n",
       "      <td>0</td>\n",
       "      <td>0</td>\n",
       "      <td>0</td>\n",
       "    </tr>\n",
       "    <tr>\n",
       "      <th>309429</th>\n",
       "      <td>22</td>\n",
       "      <td>34.1849</td>\n",
       "      <td>-118.4095</td>\n",
       "      <td>1523</td>\n",
       "      <td>1</td>\n",
       "      <td>0</td>\n",
       "      <td>0</td>\n",
       "      <td>0</td>\n",
       "      <td>0</td>\n",
       "      <td>0</td>\n",
       "      <td>...</td>\n",
       "      <td>0</td>\n",
       "      <td>0</td>\n",
       "      <td>0</td>\n",
       "      <td>0</td>\n",
       "      <td>0</td>\n",
       "      <td>0</td>\n",
       "      <td>0</td>\n",
       "      <td>0</td>\n",
       "      <td>0</td>\n",
       "      <td>0</td>\n",
       "    </tr>\n",
       "    <tr>\n",
       "      <th>309430</th>\n",
       "      <td>21</td>\n",
       "      <td>33.9847</td>\n",
       "      <td>-118.4718</td>\n",
       "      <td>1431</td>\n",
       "      <td>0</td>\n",
       "      <td>1</td>\n",
       "      <td>0</td>\n",
       "      <td>0</td>\n",
       "      <td>0</td>\n",
       "      <td>0</td>\n",
       "      <td>...</td>\n",
       "      <td>0</td>\n",
       "      <td>0</td>\n",
       "      <td>0</td>\n",
       "      <td>0</td>\n",
       "      <td>0</td>\n",
       "      <td>0</td>\n",
       "      <td>0</td>\n",
       "      <td>0</td>\n",
       "      <td>0</td>\n",
       "      <td>0</td>\n",
       "    </tr>\n",
       "  </tbody>\n",
       "</table>\n",
       "<p>234640 rows × 208 columns</p>\n",
       "</div>"
      ],
      "text/plain": [
       "        Vict_Age      Lat       Lon  Rpt_Dist_No  Vict_Sex_F  Vict_Sex_M  \\\n",
       "1             47  34.0444 -118.2628          182           0           1   \n",
       "2             19  34.0210 -118.3002          356           0           0   \n",
       "3             19  34.1576 -118.4387          964           0           1   \n",
       "4             28  34.0944 -118.3277          666           0           1   \n",
       "5             41  33.9467 -118.2463         1826           0           1   \n",
       "...          ...      ...       ...          ...         ...         ...   \n",
       "309424        57  33.9623 -118.2783         1267           0           1   \n",
       "309427        31  34.0170 -118.3477          362           0           1   \n",
       "309428        30  34.1739 -118.4400          946           1           0   \n",
       "309429        22  34.1849 -118.4095         1523           1           0   \n",
       "309430        21  33.9847 -118.4718         1431           0           1   \n",
       "\n",
       "        Vict_Sex_X  Area_Name_77th Street  Area_Name_Central  \\\n",
       "1                0                      0                  1   \n",
       "2                1                      0                  0   \n",
       "3                0                      0                  0   \n",
       "4                0                      0                  0   \n",
       "5                0                      0                  0   \n",
       "...            ...                    ...                ...   \n",
       "309424           0                      1                  0   \n",
       "309427           0                      0                  0   \n",
       "309428           0                      0                  0   \n",
       "309429           0                      0                  0   \n",
       "309430           0                      0                  0   \n",
       "\n",
       "        Area_Name_Devonshire  ...  Crm_Cd_Desc_UNAUTHORIZED COMPUTER ACCESS  \\\n",
       "1                          0  ...                                         0   \n",
       "2                          0  ...                                         0   \n",
       "3                          0  ...                                         0   \n",
       "4                          0  ...                                         0   \n",
       "5                          0  ...                                         0   \n",
       "...                      ...  ...                                       ...   \n",
       "309424                     0  ...                                         0   \n",
       "309427                     0  ...                                         0   \n",
       "309428                     0  ...                                         0   \n",
       "309429                     0  ...                                         0   \n",
       "309430                     0  ...                                         0   \n",
       "\n",
       "        Crm_Cd_Desc_VANDALISM - FELONY ($400 & OVER, ALL CHURCH VANDALISMS)  \\\n",
       "1                                                       0                     \n",
       "2                                                       0                     \n",
       "3                                                       0                     \n",
       "4                                                       0                     \n",
       "5                                                       0                     \n",
       "...                                                   ...                     \n",
       "309424                                                  1                     \n",
       "309427                                                  1                     \n",
       "309428                                                  0                     \n",
       "309429                                                  0                     \n",
       "309430                                                  0                     \n",
       "\n",
       "        Crm_Cd_Desc_VANDALISM - MISDEAMEANOR ($399 OR UNDER)  \\\n",
       "1                                                       0      \n",
       "2                                                       0      \n",
       "3                                                       0      \n",
       "4                                                       0      \n",
       "5                                                       0      \n",
       "...                                                   ...      \n",
       "309424                                                  0      \n",
       "309427                                                  0      \n",
       "309428                                                  0      \n",
       "309429                                                  0      \n",
       "309430                                                  0      \n",
       "\n",
       "        Crm_Cd_Desc_VEHICLE - ATTEMPT STOLEN  Crm_Cd_Desc_VEHICLE - STOLEN  \\\n",
       "1                                          0                             0   \n",
       "2                                          0                             0   \n",
       "3                                          0                             0   \n",
       "4                                          0                             0   \n",
       "5                                          0                             0   \n",
       "...                                      ...                           ...   \n",
       "309424                                     0                             0   \n",
       "309427                                     0                             0   \n",
       "309428                                     0                             0   \n",
       "309429                                     0                             0   \n",
       "309430                                     0                             0   \n",
       "\n",
       "        Crm_Cd_Desc_VEHICLE, STOLEN - OTHER (MOTORIZED SCOOTERS, BIKES, ETC)  \\\n",
       "1                                                       0                      \n",
       "2                                                       0                      \n",
       "3                                                       0                      \n",
       "4                                                       0                      \n",
       "5                                                       0                      \n",
       "...                                                   ...                      \n",
       "309424                                                  0                      \n",
       "309427                                                  0                      \n",
       "309428                                                  0                      \n",
       "309429                                                  0                      \n",
       "309430                                                  0                      \n",
       "\n",
       "        Crm_Cd_Desc_VIOLATION OF COURT ORDER  \\\n",
       "1                                          0   \n",
       "2                                          0   \n",
       "3                                          0   \n",
       "4                                          0   \n",
       "5                                          0   \n",
       "...                                      ...   \n",
       "309424                                     0   \n",
       "309427                                     0   \n",
       "309428                                     0   \n",
       "309429                                     0   \n",
       "309430                                     0   \n",
       "\n",
       "        Crm_Cd_Desc_VIOLATION OF RESTRAINING ORDER  \\\n",
       "1                                                0   \n",
       "2                                                0   \n",
       "3                                                0   \n",
       "4                                                0   \n",
       "5                                                0   \n",
       "...                                            ...   \n",
       "309424                                           0   \n",
       "309427                                           0   \n",
       "309428                                           0   \n",
       "309429                                           0   \n",
       "309430                                           0   \n",
       "\n",
       "        Crm_Cd_Desc_VIOLATION OF TEMPORARY RESTRAINING ORDER  \\\n",
       "1                                                       0      \n",
       "2                                                       0      \n",
       "3                                                       0      \n",
       "4                                                       0      \n",
       "5                                                       0      \n",
       "...                                                   ...      \n",
       "309424                                                  0      \n",
       "309427                                                  0      \n",
       "309428                                                  0      \n",
       "309429                                                  0      \n",
       "309430                                                  0      \n",
       "\n",
       "        Crm_Cd_Desc_WEAPONS POSSESSION/BOMBING  \n",
       "1                                            0  \n",
       "2                                            0  \n",
       "3                                            0  \n",
       "4                                            0  \n",
       "5                                            0  \n",
       "...                                        ...  \n",
       "309424                                       0  \n",
       "309427                                       0  \n",
       "309428                                       0  \n",
       "309429                                       0  \n",
       "309430                                       0  \n",
       "\n",
       "[234640 rows x 208 columns]"
      ]
     },
     "execution_count": 66,
     "metadata": {},
     "output_type": "execute_result"
    }
   ],
   "source": [
    "x"
   ]
  },
  {
   "cell_type": "code",
   "execution_count": null,
   "id": "ffd1d4d1",
   "metadata": {},
   "outputs": [],
   "source": []
  },
  {
   "cell_type": "code",
   "execution_count": 67,
   "id": "26bdd406",
   "metadata": {},
   "outputs": [],
   "source": [
    "#create train and test dataset\n",
    "from sklearn.model_selection import train_test_split\n",
    "\n",
    "# Split the data into training and testing sets\n",
    "x_train, x_test, y_train, y_test = train_test_split(x, y, test_size=0.25, random_state=0) # \n",
    "\n",
    "\n"
   ]
  },
  {
   "cell_type": "code",
   "execution_count": 68,
   "id": "38bec045",
   "metadata": {},
   "outputs": [],
   "source": [
    "#To Normalise or Standardize features\n",
    "from sklearn.preprocessing import StandardScaler\n",
    "from sklearn.ensemble import RandomForestClassifier\n",
    "\n",
    "# Scale only the features (X_train)\n",
    "scaler = StandardScaler()\n",
    "x_train_scaled = scaler.fit_transform(x_train)\n",
    "x_test_scaled = scaler.transform(x_test)\n",
    "\n"
   ]
  },
  {
   "cell_type": "code",
   "execution_count": 69,
   "id": "1da50848",
   "metadata": {},
   "outputs": [
    {
     "data": {
      "text/plain": [
       "array([[ 0.27904223,  0.12545712, -0.08792016, ..., -0.13072954,\n",
       "        -0.03287606, -0.00337121],\n",
       "       [-1.33049176,  0.04943862, -0.06382777, ..., -0.13072954,\n",
       "        -0.03287606, -0.00337121],\n",
       "       [-0.94420361,  0.03656755, -0.08499114, ..., -0.13072954,\n",
       "        -0.03287606, -0.00337121],\n",
       "       ...,\n",
       "       [-1.71677992,  0.03673416, -0.06747704, ..., -0.13072954,\n",
       "        -0.03287606, -0.00337121],\n",
       "       [-1.33049176,  0.02269677, -0.06488414, ..., -0.13072954,\n",
       "        -0.03287606, -0.00337121],\n",
       "       [-0.04286457,  0.10892049, -0.07278289, ..., -0.13072954,\n",
       "        -0.03287606, -0.00337121]])"
      ]
     },
     "execution_count": 69,
     "metadata": {},
     "output_type": "execute_result"
    }
   ],
   "source": [
    "x_train_scaled"
   ]
  },
  {
   "cell_type": "code",
   "execution_count": 70,
   "id": "23dc953c",
   "metadata": {},
   "outputs": [],
   "source": [
    "from sklearn.tree import DecisionTreeClassifier # DecisionTree classifier"
   ]
  },
  {
   "cell_type": "code",
   "execution_count": 71,
   "id": "18719f4c",
   "metadata": {},
   "outputs": [],
   "source": [
    "#entropy measures the diversity or impurity of within the data , our aim is to get low entropy value\n",
    "#gini index or coefficient \n",
    "#information Gain we can use this for both entropy or gini methods"
   ]
  },
  {
   "cell_type": "code",
   "execution_count": 72,
   "id": "cedf6c1b",
   "metadata": {},
   "outputs": [],
   "source": [
    "# IN DecsionTree we are always considering\n",
    "#min_sample_split\n",
    "#min_sample_leaf\n",
    "#max_leaf_nodes\n",
    "#splitter\n",
    "#max_features\n",
    "#presort\n",
    "#criterion\n",
    "#min_impurity_decrease"
   ]
  },
  {
   "cell_type": "code",
   "execution_count": 73,
   "id": "e5018c1d",
   "metadata": {},
   "outputs": [],
   "source": [
    "#Train the model and create the object dtc decsion tree classifier\n",
    "dtc_model = DecisionTreeClassifier(random_state = 0)"
   ]
  },
  {
   "cell_type": "code",
   "execution_count": 74,
   "id": "897ade0d",
   "metadata": {},
   "outputs": [
    {
     "data": {
      "text/html": [
       "<style>#sk-container-id-1 {color: black;}#sk-container-id-1 pre{padding: 0;}#sk-container-id-1 div.sk-toggleable {background-color: white;}#sk-container-id-1 label.sk-toggleable__label {cursor: pointer;display: block;width: 100%;margin-bottom: 0;padding: 0.3em;box-sizing: border-box;text-align: center;}#sk-container-id-1 label.sk-toggleable__label-arrow:before {content: \"▸\";float: left;margin-right: 0.25em;color: #696969;}#sk-container-id-1 label.sk-toggleable__label-arrow:hover:before {color: black;}#sk-container-id-1 div.sk-estimator:hover label.sk-toggleable__label-arrow:before {color: black;}#sk-container-id-1 div.sk-toggleable__content {max-height: 0;max-width: 0;overflow: hidden;text-align: left;background-color: #f0f8ff;}#sk-container-id-1 div.sk-toggleable__content pre {margin: 0.2em;color: black;border-radius: 0.25em;background-color: #f0f8ff;}#sk-container-id-1 input.sk-toggleable__control:checked~div.sk-toggleable__content {max-height: 200px;max-width: 100%;overflow: auto;}#sk-container-id-1 input.sk-toggleable__control:checked~label.sk-toggleable__label-arrow:before {content: \"▾\";}#sk-container-id-1 div.sk-estimator input.sk-toggleable__control:checked~label.sk-toggleable__label {background-color: #d4ebff;}#sk-container-id-1 div.sk-label input.sk-toggleable__control:checked~label.sk-toggleable__label {background-color: #d4ebff;}#sk-container-id-1 input.sk-hidden--visually {border: 0;clip: rect(1px 1px 1px 1px);clip: rect(1px, 1px, 1px, 1px);height: 1px;margin: -1px;overflow: hidden;padding: 0;position: absolute;width: 1px;}#sk-container-id-1 div.sk-estimator {font-family: monospace;background-color: #f0f8ff;border: 1px dotted black;border-radius: 0.25em;box-sizing: border-box;margin-bottom: 0.5em;}#sk-container-id-1 div.sk-estimator:hover {background-color: #d4ebff;}#sk-container-id-1 div.sk-parallel-item::after {content: \"\";width: 100%;border-bottom: 1px solid gray;flex-grow: 1;}#sk-container-id-1 div.sk-label:hover label.sk-toggleable__label {background-color: #d4ebff;}#sk-container-id-1 div.sk-serial::before {content: \"\";position: absolute;border-left: 1px solid gray;box-sizing: border-box;top: 0;bottom: 0;left: 50%;z-index: 0;}#sk-container-id-1 div.sk-serial {display: flex;flex-direction: column;align-items: center;background-color: white;padding-right: 0.2em;padding-left: 0.2em;position: relative;}#sk-container-id-1 div.sk-item {position: relative;z-index: 1;}#sk-container-id-1 div.sk-parallel {display: flex;align-items: stretch;justify-content: center;background-color: white;position: relative;}#sk-container-id-1 div.sk-item::before, #sk-container-id-1 div.sk-parallel-item::before {content: \"\";position: absolute;border-left: 1px solid gray;box-sizing: border-box;top: 0;bottom: 0;left: 50%;z-index: -1;}#sk-container-id-1 div.sk-parallel-item {display: flex;flex-direction: column;z-index: 1;position: relative;background-color: white;}#sk-container-id-1 div.sk-parallel-item:first-child::after {align-self: flex-end;width: 50%;}#sk-container-id-1 div.sk-parallel-item:last-child::after {align-self: flex-start;width: 50%;}#sk-container-id-1 div.sk-parallel-item:only-child::after {width: 0;}#sk-container-id-1 div.sk-dashed-wrapped {border: 1px dashed gray;margin: 0 0.4em 0.5em 0.4em;box-sizing: border-box;padding-bottom: 0.4em;background-color: white;}#sk-container-id-1 div.sk-label label {font-family: monospace;font-weight: bold;display: inline-block;line-height: 1.2em;}#sk-container-id-1 div.sk-label-container {text-align: center;}#sk-container-id-1 div.sk-container {/* jupyter's `normalize.less` sets `[hidden] { display: none; }` but bootstrap.min.css set `[hidden] { display: none !important; }` so we also need the `!important` here to be able to override the default hidden behavior on the sphinx rendered scikit-learn.org. See: https://github.com/scikit-learn/scikit-learn/issues/21755 */display: inline-block !important;position: relative;}#sk-container-id-1 div.sk-text-repr-fallback {display: none;}</style><div id=\"sk-container-id-1\" class=\"sk-top-container\"><div class=\"sk-text-repr-fallback\"><pre>DecisionTreeClassifier(random_state=0)</pre><b>In a Jupyter environment, please rerun this cell to show the HTML representation or trust the notebook. <br />On GitHub, the HTML representation is unable to render, please try loading this page with nbviewer.org.</b></div><div class=\"sk-container\" hidden><div class=\"sk-item\"><div class=\"sk-estimator sk-toggleable\"><input class=\"sk-toggleable__control sk-hidden--visually\" id=\"sk-estimator-id-1\" type=\"checkbox\" checked><label for=\"sk-estimator-id-1\" class=\"sk-toggleable__label sk-toggleable__label-arrow\">DecisionTreeClassifier</label><div class=\"sk-toggleable__content\"><pre>DecisionTreeClassifier(random_state=0)</pre></div></div></div></div></div>"
      ],
      "text/plain": [
       "DecisionTreeClassifier(random_state=0)"
      ]
     },
     "execution_count": 74,
     "metadata": {},
     "output_type": "execute_result"
    }
   ],
   "source": [
    "dtc_model.fit(x_train_scaled,y_train)"
   ]
  },
  {
   "cell_type": "code",
   "execution_count": 75,
   "id": "d961a1c8",
   "metadata": {},
   "outputs": [
    {
     "data": {
      "text/plain": [
       "array([2, 1, 2, ..., 1, 1, 2], dtype=int64)"
      ]
     },
     "execution_count": 75,
     "metadata": {},
     "output_type": "execute_result"
    }
   ],
   "source": [
    "y_predict = dtc_model.predict(x_test_scaled)\n",
    "y_predict"
   ]
  },
  {
   "cell_type": "code",
   "execution_count": 76,
   "id": "335b7b3e",
   "metadata": {},
   "outputs": [],
   "source": [
    "#Evaluating the model\n",
    "from sklearn.metrics import confusion_matrix\n",
    "cm = confusion_matrix(y_test,y_predict)\n",
    "dtc_model_score = dtc_model.score(x_test_scaled,y_test)"
   ]
  },
  {
   "cell_type": "code",
   "execution_count": 77,
   "id": "3aa26ed0",
   "metadata": {},
   "outputs": [
    {
     "data": {
      "text/plain": [
       "array([[30203,     4],\n",
       "       [    2, 28451]], dtype=int64)"
      ]
     },
     "execution_count": 77,
     "metadata": {},
     "output_type": "execute_result"
    }
   ],
   "source": [
    "cm"
   ]
  },
  {
   "cell_type": "code",
   "execution_count": 78,
   "id": "181a8b18",
   "metadata": {},
   "outputs": [
    {
     "data": {
      "text/plain": [
       "0.9998977156495056"
      ]
     },
     "execution_count": 78,
     "metadata": {},
     "output_type": "execute_result"
    }
   ],
   "source": [
    "dtc_model_score"
   ]
  },
  {
   "cell_type": "code",
   "execution_count": null,
   "id": "6c528560",
   "metadata": {},
   "outputs": [],
   "source": []
  },
  {
   "cell_type": "code",
   "execution_count": 79,
   "id": "f7746c33",
   "metadata": {},
   "outputs": [],
   "source": [
    "#import Random Forest Classifier from sklearn\n",
    "from sklearn.ensemble import RandomForestClassifier"
   ]
  },
  {
   "cell_type": "code",
   "execution_count": 80,
   "id": "433f43c6",
   "metadata": {},
   "outputs": [],
   "source": [
    "rfc_model = RandomForestClassifier(random_state =0)"
   ]
  },
  {
   "cell_type": "code",
   "execution_count": 81,
   "id": "9fc457b6",
   "metadata": {},
   "outputs": [
    {
     "data": {
      "text/html": [
       "<style>#sk-container-id-2 {color: black;}#sk-container-id-2 pre{padding: 0;}#sk-container-id-2 div.sk-toggleable {background-color: white;}#sk-container-id-2 label.sk-toggleable__label {cursor: pointer;display: block;width: 100%;margin-bottom: 0;padding: 0.3em;box-sizing: border-box;text-align: center;}#sk-container-id-2 label.sk-toggleable__label-arrow:before {content: \"▸\";float: left;margin-right: 0.25em;color: #696969;}#sk-container-id-2 label.sk-toggleable__label-arrow:hover:before {color: black;}#sk-container-id-2 div.sk-estimator:hover label.sk-toggleable__label-arrow:before {color: black;}#sk-container-id-2 div.sk-toggleable__content {max-height: 0;max-width: 0;overflow: hidden;text-align: left;background-color: #f0f8ff;}#sk-container-id-2 div.sk-toggleable__content pre {margin: 0.2em;color: black;border-radius: 0.25em;background-color: #f0f8ff;}#sk-container-id-2 input.sk-toggleable__control:checked~div.sk-toggleable__content {max-height: 200px;max-width: 100%;overflow: auto;}#sk-container-id-2 input.sk-toggleable__control:checked~label.sk-toggleable__label-arrow:before {content: \"▾\";}#sk-container-id-2 div.sk-estimator input.sk-toggleable__control:checked~label.sk-toggleable__label {background-color: #d4ebff;}#sk-container-id-2 div.sk-label input.sk-toggleable__control:checked~label.sk-toggleable__label {background-color: #d4ebff;}#sk-container-id-2 input.sk-hidden--visually {border: 0;clip: rect(1px 1px 1px 1px);clip: rect(1px, 1px, 1px, 1px);height: 1px;margin: -1px;overflow: hidden;padding: 0;position: absolute;width: 1px;}#sk-container-id-2 div.sk-estimator {font-family: monospace;background-color: #f0f8ff;border: 1px dotted black;border-radius: 0.25em;box-sizing: border-box;margin-bottom: 0.5em;}#sk-container-id-2 div.sk-estimator:hover {background-color: #d4ebff;}#sk-container-id-2 div.sk-parallel-item::after {content: \"\";width: 100%;border-bottom: 1px solid gray;flex-grow: 1;}#sk-container-id-2 div.sk-label:hover label.sk-toggleable__label {background-color: #d4ebff;}#sk-container-id-2 div.sk-serial::before {content: \"\";position: absolute;border-left: 1px solid gray;box-sizing: border-box;top: 0;bottom: 0;left: 50%;z-index: 0;}#sk-container-id-2 div.sk-serial {display: flex;flex-direction: column;align-items: center;background-color: white;padding-right: 0.2em;padding-left: 0.2em;position: relative;}#sk-container-id-2 div.sk-item {position: relative;z-index: 1;}#sk-container-id-2 div.sk-parallel {display: flex;align-items: stretch;justify-content: center;background-color: white;position: relative;}#sk-container-id-2 div.sk-item::before, #sk-container-id-2 div.sk-parallel-item::before {content: \"\";position: absolute;border-left: 1px solid gray;box-sizing: border-box;top: 0;bottom: 0;left: 50%;z-index: -1;}#sk-container-id-2 div.sk-parallel-item {display: flex;flex-direction: column;z-index: 1;position: relative;background-color: white;}#sk-container-id-2 div.sk-parallel-item:first-child::after {align-self: flex-end;width: 50%;}#sk-container-id-2 div.sk-parallel-item:last-child::after {align-self: flex-start;width: 50%;}#sk-container-id-2 div.sk-parallel-item:only-child::after {width: 0;}#sk-container-id-2 div.sk-dashed-wrapped {border: 1px dashed gray;margin: 0 0.4em 0.5em 0.4em;box-sizing: border-box;padding-bottom: 0.4em;background-color: white;}#sk-container-id-2 div.sk-label label {font-family: monospace;font-weight: bold;display: inline-block;line-height: 1.2em;}#sk-container-id-2 div.sk-label-container {text-align: center;}#sk-container-id-2 div.sk-container {/* jupyter's `normalize.less` sets `[hidden] { display: none; }` but bootstrap.min.css set `[hidden] { display: none !important; }` so we also need the `!important` here to be able to override the default hidden behavior on the sphinx rendered scikit-learn.org. See: https://github.com/scikit-learn/scikit-learn/issues/21755 */display: inline-block !important;position: relative;}#sk-container-id-2 div.sk-text-repr-fallback {display: none;}</style><div id=\"sk-container-id-2\" class=\"sk-top-container\"><div class=\"sk-text-repr-fallback\"><pre>RandomForestClassifier(random_state=0)</pre><b>In a Jupyter environment, please rerun this cell to show the HTML representation or trust the notebook. <br />On GitHub, the HTML representation is unable to render, please try loading this page with nbviewer.org.</b></div><div class=\"sk-container\" hidden><div class=\"sk-item\"><div class=\"sk-estimator sk-toggleable\"><input class=\"sk-toggleable__control sk-hidden--visually\" id=\"sk-estimator-id-2\" type=\"checkbox\" checked><label for=\"sk-estimator-id-2\" class=\"sk-toggleable__label sk-toggleable__label-arrow\">RandomForestClassifier</label><div class=\"sk-toggleable__content\"><pre>RandomForestClassifier(random_state=0)</pre></div></div></div></div></div>"
      ],
      "text/plain": [
       "RandomForestClassifier(random_state=0)"
      ]
     },
     "execution_count": 81,
     "metadata": {},
     "output_type": "execute_result"
    }
   ],
   "source": [
    "rfc_model.fit(x_train_scaled,y_train)"
   ]
  },
  {
   "cell_type": "code",
   "execution_count": 82,
   "id": "5e4c50fd",
   "metadata": {},
   "outputs": [
    {
     "data": {
      "text/plain": [
       "array([2, 1, 2, ..., 1, 1, 2], dtype=int64)"
      ]
     },
     "execution_count": 82,
     "metadata": {},
     "output_type": "execute_result"
    }
   ],
   "source": [
    "y_predict = rfc_model.predict(x_test_scaled)\n",
    "y_predict"
   ]
  },
  {
   "cell_type": "code",
   "execution_count": 83,
   "id": "6932a207",
   "metadata": {},
   "outputs": [],
   "source": [
    "#Evaluate the model \n",
    "from sklearn.metrics import confusion_matrix\n",
    "cm2 = confusion_matrix(y_test,y_predict)\n",
    "rfc_model_score = rfc_model.score(x_test_scaled,y_test)"
   ]
  },
  {
   "cell_type": "code",
   "execution_count": 84,
   "id": "67b1b8bb",
   "metadata": {},
   "outputs": [
    {
     "data": {
      "text/plain": [
       "array([[30198,     9],\n",
       "       [    5, 28448]], dtype=int64)"
      ]
     },
     "execution_count": 84,
     "metadata": {},
     "output_type": "execute_result"
    }
   ],
   "source": [
    "cm2"
   ]
  },
  {
   "cell_type": "code",
   "execution_count": 85,
   "id": "468b9d68",
   "metadata": {},
   "outputs": [
    {
     "data": {
      "text/plain": [
       "0.9997613365155131"
      ]
     },
     "execution_count": 85,
     "metadata": {},
     "output_type": "execute_result"
    }
   ],
   "source": [
    "rfc_model_score"
   ]
  },
  {
   "cell_type": "code",
   "execution_count": 86,
   "id": "716dd00a",
   "metadata": {},
   "outputs": [],
   "source": [
    "#Logistic Regression\n",
    "#build the logistic Regression model\n",
    "from sklearn.linear_model import LogisticRegression"
   ]
  },
  {
   "cell_type": "code",
   "execution_count": 87,
   "id": "5fce4ef1",
   "metadata": {},
   "outputs": [],
   "source": [
    "lr_model = LogisticRegression()"
   ]
  },
  {
   "cell_type": "code",
   "execution_count": 88,
   "id": "2d5adec9",
   "metadata": {},
   "outputs": [
    {
     "data": {
      "text/html": [
       "<style>#sk-container-id-3 {color: black;}#sk-container-id-3 pre{padding: 0;}#sk-container-id-3 div.sk-toggleable {background-color: white;}#sk-container-id-3 label.sk-toggleable__label {cursor: pointer;display: block;width: 100%;margin-bottom: 0;padding: 0.3em;box-sizing: border-box;text-align: center;}#sk-container-id-3 label.sk-toggleable__label-arrow:before {content: \"▸\";float: left;margin-right: 0.25em;color: #696969;}#sk-container-id-3 label.sk-toggleable__label-arrow:hover:before {color: black;}#sk-container-id-3 div.sk-estimator:hover label.sk-toggleable__label-arrow:before {color: black;}#sk-container-id-3 div.sk-toggleable__content {max-height: 0;max-width: 0;overflow: hidden;text-align: left;background-color: #f0f8ff;}#sk-container-id-3 div.sk-toggleable__content pre {margin: 0.2em;color: black;border-radius: 0.25em;background-color: #f0f8ff;}#sk-container-id-3 input.sk-toggleable__control:checked~div.sk-toggleable__content {max-height: 200px;max-width: 100%;overflow: auto;}#sk-container-id-3 input.sk-toggleable__control:checked~label.sk-toggleable__label-arrow:before {content: \"▾\";}#sk-container-id-3 div.sk-estimator input.sk-toggleable__control:checked~label.sk-toggleable__label {background-color: #d4ebff;}#sk-container-id-3 div.sk-label input.sk-toggleable__control:checked~label.sk-toggleable__label {background-color: #d4ebff;}#sk-container-id-3 input.sk-hidden--visually {border: 0;clip: rect(1px 1px 1px 1px);clip: rect(1px, 1px, 1px, 1px);height: 1px;margin: -1px;overflow: hidden;padding: 0;position: absolute;width: 1px;}#sk-container-id-3 div.sk-estimator {font-family: monospace;background-color: #f0f8ff;border: 1px dotted black;border-radius: 0.25em;box-sizing: border-box;margin-bottom: 0.5em;}#sk-container-id-3 div.sk-estimator:hover {background-color: #d4ebff;}#sk-container-id-3 div.sk-parallel-item::after {content: \"\";width: 100%;border-bottom: 1px solid gray;flex-grow: 1;}#sk-container-id-3 div.sk-label:hover label.sk-toggleable__label {background-color: #d4ebff;}#sk-container-id-3 div.sk-serial::before {content: \"\";position: absolute;border-left: 1px solid gray;box-sizing: border-box;top: 0;bottom: 0;left: 50%;z-index: 0;}#sk-container-id-3 div.sk-serial {display: flex;flex-direction: column;align-items: center;background-color: white;padding-right: 0.2em;padding-left: 0.2em;position: relative;}#sk-container-id-3 div.sk-item {position: relative;z-index: 1;}#sk-container-id-3 div.sk-parallel {display: flex;align-items: stretch;justify-content: center;background-color: white;position: relative;}#sk-container-id-3 div.sk-item::before, #sk-container-id-3 div.sk-parallel-item::before {content: \"\";position: absolute;border-left: 1px solid gray;box-sizing: border-box;top: 0;bottom: 0;left: 50%;z-index: -1;}#sk-container-id-3 div.sk-parallel-item {display: flex;flex-direction: column;z-index: 1;position: relative;background-color: white;}#sk-container-id-3 div.sk-parallel-item:first-child::after {align-self: flex-end;width: 50%;}#sk-container-id-3 div.sk-parallel-item:last-child::after {align-self: flex-start;width: 50%;}#sk-container-id-3 div.sk-parallel-item:only-child::after {width: 0;}#sk-container-id-3 div.sk-dashed-wrapped {border: 1px dashed gray;margin: 0 0.4em 0.5em 0.4em;box-sizing: border-box;padding-bottom: 0.4em;background-color: white;}#sk-container-id-3 div.sk-label label {font-family: monospace;font-weight: bold;display: inline-block;line-height: 1.2em;}#sk-container-id-3 div.sk-label-container {text-align: center;}#sk-container-id-3 div.sk-container {/* jupyter's `normalize.less` sets `[hidden] { display: none; }` but bootstrap.min.css set `[hidden] { display: none !important; }` so we also need the `!important` here to be able to override the default hidden behavior on the sphinx rendered scikit-learn.org. See: https://github.com/scikit-learn/scikit-learn/issues/21755 */display: inline-block !important;position: relative;}#sk-container-id-3 div.sk-text-repr-fallback {display: none;}</style><div id=\"sk-container-id-3\" class=\"sk-top-container\"><div class=\"sk-text-repr-fallback\"><pre>LogisticRegression()</pre><b>In a Jupyter environment, please rerun this cell to show the HTML representation or trust the notebook. <br />On GitHub, the HTML representation is unable to render, please try loading this page with nbviewer.org.</b></div><div class=\"sk-container\" hidden><div class=\"sk-item\"><div class=\"sk-estimator sk-toggleable\"><input class=\"sk-toggleable__control sk-hidden--visually\" id=\"sk-estimator-id-3\" type=\"checkbox\" checked><label for=\"sk-estimator-id-3\" class=\"sk-toggleable__label sk-toggleable__label-arrow\">LogisticRegression</label><div class=\"sk-toggleable__content\"><pre>LogisticRegression()</pre></div></div></div></div></div>"
      ],
      "text/plain": [
       "LogisticRegression()"
      ]
     },
     "execution_count": 88,
     "metadata": {},
     "output_type": "execute_result"
    }
   ],
   "source": [
    "lr_model.fit(x_train_scaled,y_train)"
   ]
  },
  {
   "cell_type": "code",
   "execution_count": 89,
   "id": "0d16d7b3",
   "metadata": {},
   "outputs": [
    {
     "data": {
      "text/plain": [
       "array([2, 1, 2, ..., 1, 1, 2], dtype=int64)"
      ]
     },
     "execution_count": 89,
     "metadata": {},
     "output_type": "execute_result"
    }
   ],
   "source": [
    "y_predict = lr_model.predict(x_test_scaled)\n",
    "y_predict"
   ]
  },
  {
   "cell_type": "code",
   "execution_count": 90,
   "id": "60912efb",
   "metadata": {},
   "outputs": [],
   "source": [
    "#Evaluate the result/predictions and get the accuracy/score"
   ]
  },
  {
   "cell_type": "code",
   "execution_count": 91,
   "id": "6d3ade7e",
   "metadata": {},
   "outputs": [],
   "source": [
    "from sklearn.metrics import confusion_matrix"
   ]
  },
  {
   "cell_type": "code",
   "execution_count": 92,
   "id": "bfda0622",
   "metadata": {},
   "outputs": [
    {
     "data": {
      "text/plain": [
       "array([[30207,     0],\n",
       "       [    2, 28451]], dtype=int64)"
      ]
     },
     "execution_count": 92,
     "metadata": {},
     "output_type": "execute_result"
    }
   ],
   "source": [
    "cm_logistic = confusion_matrix(y_test,y_predict)\n",
    "cm_logistic"
   ]
  },
  {
   "cell_type": "code",
   "execution_count": 93,
   "id": "1935573a",
   "metadata": {},
   "outputs": [
    {
     "data": {
      "text/plain": [
       "0.9999659052165019"
      ]
     },
     "execution_count": 93,
     "metadata": {},
     "output_type": "execute_result"
    }
   ],
   "source": [
    "lr_model_score = lr_model.score(x_test_scaled,y_test)\n",
    "lr_model_score"
   ]
  },
  {
   "cell_type": "code",
   "execution_count": null,
   "id": "c69c154f",
   "metadata": {},
   "outputs": [],
   "source": []
  },
  {
   "cell_type": "code",
   "execution_count": 94,
   "id": "d756db2f",
   "metadata": {},
   "outputs": [],
   "source": [
    "#SVM is used for both regression and Classfication \n",
    "#Build the support Vector Classifier\n",
    "from sklearn.svm import SVC"
   ]
  },
  {
   "cell_type": "code",
   "execution_count": 95,
   "id": "2be93539",
   "metadata": {},
   "outputs": [],
   "source": [
    "#create an object of svc\n",
    "svc_model = SVC()"
   ]
  },
  {
   "cell_type": "code",
   "execution_count": 96,
   "id": "ddd3eacd",
   "metadata": {},
   "outputs": [
    {
     "data": {
      "text/html": [
       "<style>#sk-container-id-4 {color: black;}#sk-container-id-4 pre{padding: 0;}#sk-container-id-4 div.sk-toggleable {background-color: white;}#sk-container-id-4 label.sk-toggleable__label {cursor: pointer;display: block;width: 100%;margin-bottom: 0;padding: 0.3em;box-sizing: border-box;text-align: center;}#sk-container-id-4 label.sk-toggleable__label-arrow:before {content: \"▸\";float: left;margin-right: 0.25em;color: #696969;}#sk-container-id-4 label.sk-toggleable__label-arrow:hover:before {color: black;}#sk-container-id-4 div.sk-estimator:hover label.sk-toggleable__label-arrow:before {color: black;}#sk-container-id-4 div.sk-toggleable__content {max-height: 0;max-width: 0;overflow: hidden;text-align: left;background-color: #f0f8ff;}#sk-container-id-4 div.sk-toggleable__content pre {margin: 0.2em;color: black;border-radius: 0.25em;background-color: #f0f8ff;}#sk-container-id-4 input.sk-toggleable__control:checked~div.sk-toggleable__content {max-height: 200px;max-width: 100%;overflow: auto;}#sk-container-id-4 input.sk-toggleable__control:checked~label.sk-toggleable__label-arrow:before {content: \"▾\";}#sk-container-id-4 div.sk-estimator input.sk-toggleable__control:checked~label.sk-toggleable__label {background-color: #d4ebff;}#sk-container-id-4 div.sk-label input.sk-toggleable__control:checked~label.sk-toggleable__label {background-color: #d4ebff;}#sk-container-id-4 input.sk-hidden--visually {border: 0;clip: rect(1px 1px 1px 1px);clip: rect(1px, 1px, 1px, 1px);height: 1px;margin: -1px;overflow: hidden;padding: 0;position: absolute;width: 1px;}#sk-container-id-4 div.sk-estimator {font-family: monospace;background-color: #f0f8ff;border: 1px dotted black;border-radius: 0.25em;box-sizing: border-box;margin-bottom: 0.5em;}#sk-container-id-4 div.sk-estimator:hover {background-color: #d4ebff;}#sk-container-id-4 div.sk-parallel-item::after {content: \"\";width: 100%;border-bottom: 1px solid gray;flex-grow: 1;}#sk-container-id-4 div.sk-label:hover label.sk-toggleable__label {background-color: #d4ebff;}#sk-container-id-4 div.sk-serial::before {content: \"\";position: absolute;border-left: 1px solid gray;box-sizing: border-box;top: 0;bottom: 0;left: 50%;z-index: 0;}#sk-container-id-4 div.sk-serial {display: flex;flex-direction: column;align-items: center;background-color: white;padding-right: 0.2em;padding-left: 0.2em;position: relative;}#sk-container-id-4 div.sk-item {position: relative;z-index: 1;}#sk-container-id-4 div.sk-parallel {display: flex;align-items: stretch;justify-content: center;background-color: white;position: relative;}#sk-container-id-4 div.sk-item::before, #sk-container-id-4 div.sk-parallel-item::before {content: \"\";position: absolute;border-left: 1px solid gray;box-sizing: border-box;top: 0;bottom: 0;left: 50%;z-index: -1;}#sk-container-id-4 div.sk-parallel-item {display: flex;flex-direction: column;z-index: 1;position: relative;background-color: white;}#sk-container-id-4 div.sk-parallel-item:first-child::after {align-self: flex-end;width: 50%;}#sk-container-id-4 div.sk-parallel-item:last-child::after {align-self: flex-start;width: 50%;}#sk-container-id-4 div.sk-parallel-item:only-child::after {width: 0;}#sk-container-id-4 div.sk-dashed-wrapped {border: 1px dashed gray;margin: 0 0.4em 0.5em 0.4em;box-sizing: border-box;padding-bottom: 0.4em;background-color: white;}#sk-container-id-4 div.sk-label label {font-family: monospace;font-weight: bold;display: inline-block;line-height: 1.2em;}#sk-container-id-4 div.sk-label-container {text-align: center;}#sk-container-id-4 div.sk-container {/* jupyter's `normalize.less` sets `[hidden] { display: none; }` but bootstrap.min.css set `[hidden] { display: none !important; }` so we also need the `!important` here to be able to override the default hidden behavior on the sphinx rendered scikit-learn.org. See: https://github.com/scikit-learn/scikit-learn/issues/21755 */display: inline-block !important;position: relative;}#sk-container-id-4 div.sk-text-repr-fallback {display: none;}</style><div id=\"sk-container-id-4\" class=\"sk-top-container\"><div class=\"sk-text-repr-fallback\"><pre>SVC()</pre><b>In a Jupyter environment, please rerun this cell to show the HTML representation or trust the notebook. <br />On GitHub, the HTML representation is unable to render, please try loading this page with nbviewer.org.</b></div><div class=\"sk-container\" hidden><div class=\"sk-item\"><div class=\"sk-estimator sk-toggleable\"><input class=\"sk-toggleable__control sk-hidden--visually\" id=\"sk-estimator-id-4\" type=\"checkbox\" checked><label for=\"sk-estimator-id-4\" class=\"sk-toggleable__label sk-toggleable__label-arrow\">SVC</label><div class=\"sk-toggleable__content\"><pre>SVC()</pre></div></div></div></div></div>"
      ],
      "text/plain": [
       "SVC()"
      ]
     },
     "execution_count": 96,
     "metadata": {},
     "output_type": "execute_result"
    }
   ],
   "source": [
    "svc_model.fit(x_train_scaled,y_train) # fitting "
   ]
  },
  {
   "cell_type": "code",
   "execution_count": 97,
   "id": "c9da6bc8",
   "metadata": {},
   "outputs": [
    {
     "data": {
      "text/plain": [
       "array([2, 1, 2, ..., 1, 1, 2], dtype=int64)"
      ]
     },
     "execution_count": 97,
     "metadata": {},
     "output_type": "execute_result"
    }
   ],
   "source": [
    "#predict the outcome using test data\n",
    "y_predict = svc_model.predict(x_test_scaled)\n",
    "y_predict"
   ]
  },
  {
   "cell_type": "code",
   "execution_count": 98,
   "id": "546d2bea",
   "metadata": {},
   "outputs": [
    {
     "data": {
      "text/plain": [
       "array([[30202,     5],\n",
       "       [   16, 28437]], dtype=int64)"
      ]
     },
     "execution_count": 98,
     "metadata": {},
     "output_type": "execute_result"
    }
   ],
   "source": [
    "#building confusion matrix\n",
    "cm = confusion_matrix(y_test,y_predict)\n",
    "cm"
   ]
  },
  {
   "cell_type": "code",
   "execution_count": 99,
   "id": "52e173bb",
   "metadata": {},
   "outputs": [
    {
     "data": {
      "text/plain": [
       "0.9996420047732697"
      ]
     },
     "execution_count": 99,
     "metadata": {},
     "output_type": "execute_result"
    }
   ],
   "source": [
    "svc_model_score = svc_model.score(x_test_scaled,y_test)\n",
    "svc_model_score"
   ]
  },
  {
   "cell_type": "code",
   "execution_count": null,
   "id": "b626e1c8",
   "metadata": {},
   "outputs": [],
   "source": []
  }
 ],
 "metadata": {
  "kernelspec": {
   "display_name": "Python 3 (ipykernel)",
   "language": "python",
   "name": "python3"
  },
  "language_info": {
   "codemirror_mode": {
    "name": "ipython",
    "version": 3
   },
   "file_extension": ".py",
   "mimetype": "text/x-python",
   "name": "python",
   "nbconvert_exporter": "python",
   "pygments_lexer": "ipython3",
   "version": "3.11.7"
  }
 },
 "nbformat": 4,
 "nbformat_minor": 5
}
